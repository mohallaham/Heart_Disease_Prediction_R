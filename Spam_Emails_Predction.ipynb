{
 "cells": [
  {
   "cell_type": "markdown",
   "id": "f7218fbe-9e37-484c-a199-0f08f8405a71",
   "metadata": {},
   "source": [
    "# NoteBook for Heart Disease Detection"
   ]
  },
  {
   "cell_type": "markdown",
   "id": "92ca3041-2304-4a5e-90b0-079efbfb4bdf",
   "metadata": {},
   "source": [
    "## This Notebook mainly contains the following:\n",
    "**PART ONE: Basic Exploratory Data Analysis(EDA)**\n",
    "\n",
    "**PART TWO: Applying Supervised ML Algorithms: Naive Bayes, Decision Trees, KNN and SVM**\n",
    "\n",
    "**PART THREE: A brief discussion from PART TWO**\n",
    "\n",
    "**PART FOUR: Ensemble Modeling**                \n",
    "\n",
    "**PART FIVE: Applying one of clustering algorithms to identify the subgroups among heart disease patients**"
   ]
  },
  {
   "cell_type": "markdown",
   "id": "a75c364d-e59e-4ddb-a056-4aa3b903ce75",
   "metadata": {},
   "source": [
    "### About Heart Disease Dataset:"
   ]
  },
  {
   "cell_type": "markdown",
   "id": "b0de57fd-5cf4-4d24-b517-38c3440c1b02",
   "metadata": {},
   "source": [
    "One of the impactful processes in every data mining problem is data selection, so we will use the University of\n",
    "California, Irvine (UCI) Cleveland heart Disease dataset, which is clean data and contains 14 attributes the diagnosis\n",
    "(predicted target is included); also it has 303 instances, gathered in 1988 from Cleveland Clinic Foundation.\n",
    "Cleveland Heart Disease Dataset from the University of California, Irvine Repository is real data and has patient\n",
    "records. The information of the attributes as shown in Table1, and there are 13 independent attributes, and one target/\n",
    "dependent (label)"
   ]
  },
  {
   "cell_type": "markdown",
   "id": "80005d95-fee0-4704-8a48-8c23b66e8b8e",
   "metadata": {},
   "source": [
    "### PART ONE: Basic Exploratory Data Analysis(EDA)\n"
   ]
  },
  {
   "cell_type": "code",
   "execution_count": 98,
   "id": "14f92bd0-8ae9-47e1-a815-6e4db01ee257",
   "metadata": {},
   "outputs": [],
   "source": [
    "# importing necessary libraries \n",
    "library(ggplot2)\n",
    "library(dplyr)\n",
    "library(GGally)\n",
    "library(knitr)\n",
    "library(caret)\n",
    "library(e1071)\n",
    "library(mlbench)\n",
    "library(naivebayes)\n",
    "library(gbm)\n",
    "library(caretEnsemble)\n",
    "library(adabag)\n",
    "library(rgl)\n",
    "options(repr.plot.res=175)"
   ]
  },
  {
   "cell_type": "code",
   "execution_count": 10,
   "id": "89acd32c-f331-48a0-aeca-85e708500350",
   "metadata": {},
   "outputs": [],
   "source": [
    "#Reading the dataset\n",
    "df<-read.csv(\"C:/Users/user/Heart Disease Prediction/Heart_Disease .csv\")"
   ]
  },
  {
   "cell_type": "code",
   "execution_count": 11,
   "id": "76e83e4e-22d2-405a-90f9-27d6bc3e9652",
   "metadata": {},
   "outputs": [
    {
     "data": {
      "text/html": [
       "<table class=\"dataframe\">\n",
       "<caption>A data.frame: 10 × 14</caption>\n",
       "<thead>\n",
       "\t<tr><th></th><th scope=col>age</th><th scope=col>sex</th><th scope=col>cp</th><th scope=col>tbp</th><th scope=col>chol</th><th scope=col>fbs</th><th scope=col>rstcg</th><th scope=col>thlch</th><th scope=col>exng</th><th scope=col>opeak</th><th scope=col>slope</th><th scope=col>ca</th><th scope=col>thal</th><th scope=col>Target</th></tr>\n",
       "\t<tr><th></th><th scope=col>&lt;int&gt;</th><th scope=col>&lt;int&gt;</th><th scope=col>&lt;int&gt;</th><th scope=col>&lt;int&gt;</th><th scope=col>&lt;int&gt;</th><th scope=col>&lt;int&gt;</th><th scope=col>&lt;int&gt;</th><th scope=col>&lt;int&gt;</th><th scope=col>&lt;int&gt;</th><th scope=col>&lt;dbl&gt;</th><th scope=col>&lt;int&gt;</th><th scope=col>&lt;int&gt;</th><th scope=col>&lt;int&gt;</th><th scope=col>&lt;int&gt;</th></tr>\n",
       "</thead>\n",
       "<tbody>\n",
       "\t<tr><th scope=row>1</th><td>63</td><td>1</td><td>1</td><td>145</td><td>233</td><td>1</td><td>2</td><td>150</td><td>0</td><td>2.3</td><td>3</td><td>0</td><td>1</td><td>0</td></tr>\n",
       "\t<tr><th scope=row>2</th><td>67</td><td>1</td><td>4</td><td>160</td><td>286</td><td>0</td><td>2</td><td>108</td><td>1</td><td>1.5</td><td>2</td><td>3</td><td>0</td><td>1</td></tr>\n",
       "\t<tr><th scope=row>3</th><td>67</td><td>1</td><td>4</td><td>120</td><td>229</td><td>0</td><td>2</td><td>129</td><td>1</td><td>2.6</td><td>2</td><td>2</td><td>2</td><td>1</td></tr>\n",
       "\t<tr><th scope=row>4</th><td>37</td><td>1</td><td>3</td><td>130</td><td>250</td><td>0</td><td>0</td><td>187</td><td>0</td><td>3.5</td><td>3</td><td>0</td><td>0</td><td>0</td></tr>\n",
       "\t<tr><th scope=row>5</th><td>41</td><td>0</td><td>2</td><td>130</td><td>204</td><td>0</td><td>2</td><td>172</td><td>0</td><td>1.4</td><td>1</td><td>0</td><td>0</td><td>0</td></tr>\n",
       "\t<tr><th scope=row>6</th><td>56</td><td>1</td><td>2</td><td>120</td><td>236</td><td>0</td><td>0</td><td>178</td><td>0</td><td>0.8</td><td>1</td><td>0</td><td>0</td><td>0</td></tr>\n",
       "\t<tr><th scope=row>7</th><td>62</td><td>0</td><td>4</td><td>140</td><td>268</td><td>0</td><td>2</td><td>160</td><td>0</td><td>3.6</td><td>3</td><td>2</td><td>0</td><td>1</td></tr>\n",
       "\t<tr><th scope=row>8</th><td>57</td><td>0</td><td>4</td><td>120</td><td>354</td><td>0</td><td>0</td><td>163</td><td>1</td><td>0.6</td><td>1</td><td>0</td><td>0</td><td>0</td></tr>\n",
       "\t<tr><th scope=row>9</th><td>63</td><td>1</td><td>4</td><td>130</td><td>254</td><td>0</td><td>2</td><td>147</td><td>0</td><td>1.4</td><td>2</td><td>1</td><td>2</td><td>1</td></tr>\n",
       "\t<tr><th scope=row>10</th><td>53</td><td>1</td><td>4</td><td>140</td><td>203</td><td>1</td><td>2</td><td>155</td><td>1</td><td>3.1</td><td>3</td><td>0</td><td>2</td><td>1</td></tr>\n",
       "</tbody>\n",
       "</table>\n"
      ],
      "text/latex": [
       "A data.frame: 10 × 14\n",
       "\\begin{tabular}{r|llllllllllllll}\n",
       "  & age & sex & cp & tbp & chol & fbs & rstcg & thlch & exng & opeak & slope & ca & thal & Target\\\\\n",
       "  & <int> & <int> & <int> & <int> & <int> & <int> & <int> & <int> & <int> & <dbl> & <int> & <int> & <int> & <int>\\\\\n",
       "\\hline\n",
       "\t1 & 63 & 1 & 1 & 145 & 233 & 1 & 2 & 150 & 0 & 2.3 & 3 & 0 & 1 & 0\\\\\n",
       "\t2 & 67 & 1 & 4 & 160 & 286 & 0 & 2 & 108 & 1 & 1.5 & 2 & 3 & 0 & 1\\\\\n",
       "\t3 & 67 & 1 & 4 & 120 & 229 & 0 & 2 & 129 & 1 & 2.6 & 2 & 2 & 2 & 1\\\\\n",
       "\t4 & 37 & 1 & 3 & 130 & 250 & 0 & 0 & 187 & 0 & 3.5 & 3 & 0 & 0 & 0\\\\\n",
       "\t5 & 41 & 0 & 2 & 130 & 204 & 0 & 2 & 172 & 0 & 1.4 & 1 & 0 & 0 & 0\\\\\n",
       "\t6 & 56 & 1 & 2 & 120 & 236 & 0 & 0 & 178 & 0 & 0.8 & 1 & 0 & 0 & 0\\\\\n",
       "\t7 & 62 & 0 & 4 & 140 & 268 & 0 & 2 & 160 & 0 & 3.6 & 3 & 2 & 0 & 1\\\\\n",
       "\t8 & 57 & 0 & 4 & 120 & 354 & 0 & 0 & 163 & 1 & 0.6 & 1 & 0 & 0 & 0\\\\\n",
       "\t9 & 63 & 1 & 4 & 130 & 254 & 0 & 2 & 147 & 0 & 1.4 & 2 & 1 & 2 & 1\\\\\n",
       "\t10 & 53 & 1 & 4 & 140 & 203 & 1 & 2 & 155 & 1 & 3.1 & 3 & 0 & 2 & 1\\\\\n",
       "\\end{tabular}\n"
      ],
      "text/markdown": [
       "\n",
       "A data.frame: 10 × 14\n",
       "\n",
       "| <!--/--> | age &lt;int&gt; | sex &lt;int&gt; | cp &lt;int&gt; | tbp &lt;int&gt; | chol &lt;int&gt; | fbs &lt;int&gt; | rstcg &lt;int&gt; | thlch &lt;int&gt; | exng &lt;int&gt; | opeak &lt;dbl&gt; | slope &lt;int&gt; | ca &lt;int&gt; | thal &lt;int&gt; | Target &lt;int&gt; |\n",
       "|---|---|---|---|---|---|---|---|---|---|---|---|---|---|---|\n",
       "| 1 | 63 | 1 | 1 | 145 | 233 | 1 | 2 | 150 | 0 | 2.3 | 3 | 0 | 1 | 0 |\n",
       "| 2 | 67 | 1 | 4 | 160 | 286 | 0 | 2 | 108 | 1 | 1.5 | 2 | 3 | 0 | 1 |\n",
       "| 3 | 67 | 1 | 4 | 120 | 229 | 0 | 2 | 129 | 1 | 2.6 | 2 | 2 | 2 | 1 |\n",
       "| 4 | 37 | 1 | 3 | 130 | 250 | 0 | 0 | 187 | 0 | 3.5 | 3 | 0 | 0 | 0 |\n",
       "| 5 | 41 | 0 | 2 | 130 | 204 | 0 | 2 | 172 | 0 | 1.4 | 1 | 0 | 0 | 0 |\n",
       "| 6 | 56 | 1 | 2 | 120 | 236 | 0 | 0 | 178 | 0 | 0.8 | 1 | 0 | 0 | 0 |\n",
       "| 7 | 62 | 0 | 4 | 140 | 268 | 0 | 2 | 160 | 0 | 3.6 | 3 | 2 | 0 | 1 |\n",
       "| 8 | 57 | 0 | 4 | 120 | 354 | 0 | 0 | 163 | 1 | 0.6 | 1 | 0 | 0 | 0 |\n",
       "| 9 | 63 | 1 | 4 | 130 | 254 | 0 | 2 | 147 | 0 | 1.4 | 2 | 1 | 2 | 1 |\n",
       "| 10 | 53 | 1 | 4 | 140 | 203 | 1 | 2 | 155 | 1 | 3.1 | 3 | 0 | 2 | 1 |\n",
       "\n"
      ],
      "text/plain": [
       "   age sex cp tbp chol fbs rstcg thlch exng opeak slope ca thal Target\n",
       "1  63  1   1  145 233  1   2     150   0    2.3   3     0  1    0     \n",
       "2  67  1   4  160 286  0   2     108   1    1.5   2     3  0    1     \n",
       "3  67  1   4  120 229  0   2     129   1    2.6   2     2  2    1     \n",
       "4  37  1   3  130 250  0   0     187   0    3.5   3     0  0    0     \n",
       "5  41  0   2  130 204  0   2     172   0    1.4   1     0  0    0     \n",
       "6  56  1   2  120 236  0   0     178   0    0.8   1     0  0    0     \n",
       "7  62  0   4  140 268  0   2     160   0    3.6   3     2  0    1     \n",
       "8  57  0   4  120 354  0   0     163   1    0.6   1     0  0    0     \n",
       "9  63  1   4  130 254  0   2     147   0    1.4   2     1  2    1     \n",
       "10 53  1   4  140 203  1   2     155   1    3.1   3     0  2    1     "
      ]
     },
     "metadata": {},
     "output_type": "display_data"
    }
   ],
   "source": [
    "head(df,n=10)"
   ]
  },
  {
   "cell_type": "code",
   "execution_count": 12,
   "id": "c10924a2-d22e-4478-9b56-4535315ae002",
   "metadata": {},
   "outputs": [
    {
     "data": {
      "text/html": [
       "<span style=white-space:pre-wrap>'Number of columns  :  14'</span>"
      ],
      "text/latex": [
       "'Number of columns  :  14'"
      ],
      "text/markdown": [
       "<span style=white-space:pre-wrap>'Number of columns  :  14'</span>"
      ],
      "text/plain": [
       "[1] \"Number of columns  :  14\""
      ]
     },
     "metadata": {},
     "output_type": "display_data"
    },
    {
     "data": {
      "text/html": [
       "<span style=white-space:pre-wrap>'Number of rows  :  303'</span>"
      ],
      "text/latex": [
       "'Number of rows  :  303'"
      ],
      "text/markdown": [
       "<span style=white-space:pre-wrap>'Number of rows  :  303'</span>"
      ],
      "text/plain": [
       "[1] \"Number of rows  :  303\""
      ]
     },
     "metadata": {},
     "output_type": "display_data"
    }
   ],
   "source": [
    "# <-- Getting to know the structure of the data -->\n",
    "# Number of columns and rows\n",
    "\n",
    "paste(\"Number of columns  : \",ncol(df))\n",
    "paste(\"Number of rows  : \",nrow(df))\n"
   ]
  },
  {
   "cell_type": "code",
   "execution_count": 13,
   "id": "5ea9bb86-1e8f-4f36-9162-b69c34884dca",
   "metadata": {},
   "outputs": [
    {
     "data": {
      "text/html": [
       "<dl>\n",
       "\t<dt>$age</dt>\n",
       "\t\t<dd>'integer'</dd>\n",
       "\t<dt>$sex</dt>\n",
       "\t\t<dd>'integer'</dd>\n",
       "\t<dt>$cp</dt>\n",
       "\t\t<dd>'integer'</dd>\n",
       "\t<dt>$tbp</dt>\n",
       "\t\t<dd>'integer'</dd>\n",
       "\t<dt>$chol</dt>\n",
       "\t\t<dd>'integer'</dd>\n",
       "\t<dt>$fbs</dt>\n",
       "\t\t<dd>'integer'</dd>\n",
       "\t<dt>$rstcg</dt>\n",
       "\t\t<dd>'integer'</dd>\n",
       "\t<dt>$thlch</dt>\n",
       "\t\t<dd>'integer'</dd>\n",
       "\t<dt>$exng</dt>\n",
       "\t\t<dd>'integer'</dd>\n",
       "\t<dt>$opeak</dt>\n",
       "\t\t<dd>'numeric'</dd>\n",
       "\t<dt>$slope</dt>\n",
       "\t\t<dd>'integer'</dd>\n",
       "\t<dt>$ca</dt>\n",
       "\t\t<dd>'integer'</dd>\n",
       "\t<dt>$thal</dt>\n",
       "\t\t<dd>'integer'</dd>\n",
       "\t<dt>$Target</dt>\n",
       "\t\t<dd>'integer'</dd>\n",
       "</dl>\n"
      ],
      "text/latex": [
       "\\begin{description}\n",
       "\\item[\\$age] 'integer'\n",
       "\\item[\\$sex] 'integer'\n",
       "\\item[\\$cp] 'integer'\n",
       "\\item[\\$tbp] 'integer'\n",
       "\\item[\\$chol] 'integer'\n",
       "\\item[\\$fbs] 'integer'\n",
       "\\item[\\$rstcg] 'integer'\n",
       "\\item[\\$thlch] 'integer'\n",
       "\\item[\\$exng] 'integer'\n",
       "\\item[\\$opeak] 'numeric'\n",
       "\\item[\\$slope] 'integer'\n",
       "\\item[\\$ca] 'integer'\n",
       "\\item[\\$thal] 'integer'\n",
       "\\item[\\$Target] 'integer'\n",
       "\\end{description}\n"
      ],
      "text/markdown": [
       "$age\n",
       ":   'integer'\n",
       "$sex\n",
       ":   'integer'\n",
       "$cp\n",
       ":   'integer'\n",
       "$tbp\n",
       ":   'integer'\n",
       "$chol\n",
       ":   'integer'\n",
       "$fbs\n",
       ":   'integer'\n",
       "$rstcg\n",
       ":   'integer'\n",
       "$thlch\n",
       ":   'integer'\n",
       "$exng\n",
       ":   'integer'\n",
       "$opeak\n",
       ":   'numeric'\n",
       "$slope\n",
       ":   'integer'\n",
       "$ca\n",
       ":   'integer'\n",
       "$thal\n",
       ":   'integer'\n",
       "$Target\n",
       ":   'integer'\n",
       "\n",
       "\n"
      ],
      "text/plain": [
       "$age\n",
       "[1] \"integer\"\n",
       "\n",
       "$sex\n",
       "[1] \"integer\"\n",
       "\n",
       "$cp\n",
       "[1] \"integer\"\n",
       "\n",
       "$tbp\n",
       "[1] \"integer\"\n",
       "\n",
       "$chol\n",
       "[1] \"integer\"\n",
       "\n",
       "$fbs\n",
       "[1] \"integer\"\n",
       "\n",
       "$rstcg\n",
       "[1] \"integer\"\n",
       "\n",
       "$thlch\n",
       "[1] \"integer\"\n",
       "\n",
       "$exng\n",
       "[1] \"integer\"\n",
       "\n",
       "$opeak\n",
       "[1] \"numeric\"\n",
       "\n",
       "$slope\n",
       "[1] \"integer\"\n",
       "\n",
       "$ca\n",
       "[1] \"integer\"\n",
       "\n",
       "$thal\n",
       "[1] \"integer\"\n",
       "\n",
       "$Target\n",
       "[1] \"integer\"\n"
      ]
     },
     "metadata": {},
     "output_type": "display_data"
    }
   ],
   "source": [
    "# Attributes Names and Data Types\n",
    "lapply(df,class)"
   ]
  },
  {
   "cell_type": "markdown",
   "id": "91e2facc-8658-47ea-b5ff-78be1911a4e5",
   "metadata": {},
   "source": [
    "If we look to the unique values of the atrributes in the data set, we could find that some of them are **Catogerical Variables** in origin,but Catogeries are represented by using Integer numbers\n",
    "\n",
    "##### -The Catogerical Variables are:\n",
    "**sex,cp,fbs,rstcg,exng,slope,ca,thal and Target**\n",
    "\n",
    "As preprocessing phase the Catogerical Variables are converted from **\"integer\"** to **\"factor\"** data type\n"
   ]
  },
  {
   "cell_type": "code",
   "execution_count": 14,
   "id": "496604d4-5e3c-41d3-9962-f982589541a4",
   "metadata": {},
   "outputs": [
    {
     "data": {
      "text/html": [
       "<dl>\n",
       "\t<dt>$age</dt>\n",
       "\t\t<dd><style>\n",
       ".list-inline {list-style: none; margin:0; padding: 0}\n",
       ".list-inline>li {display: inline-block}\n",
       ".list-inline>li:not(:last-child)::after {content: \"\\00b7\"; padding: 0 .5ex}\n",
       "</style>\n",
       "<ol class=list-inline><li>63</li><li>67</li><li>37</li><li>41</li><li>56</li><li>62</li><li>57</li><li>53</li><li>44</li><li>52</li><li>48</li><li>54</li><li>49</li><li>64</li><li>58</li><li>60</li><li>50</li><li>66</li><li>43</li><li>40</li><li>69</li><li>59</li><li>42</li><li>55</li><li>61</li><li>65</li><li>71</li><li>51</li><li>46</li><li>45</li><li>39</li><li>68</li><li>47</li><li>34</li><li>35</li><li>29</li><li>70</li><li>77</li><li>38</li><li>74</li><li>76</li></ol>\n",
       "</dd>\n",
       "\t<dt>$sex</dt>\n",
       "\t\t<dd><style>\n",
       ".list-inline {list-style: none; margin:0; padding: 0}\n",
       ".list-inline>li {display: inline-block}\n",
       ".list-inline>li:not(:last-child)::after {content: \"\\00b7\"; padding: 0 .5ex}\n",
       "</style>\n",
       "<ol class=list-inline><li>1</li><li>0</li></ol>\n",
       "</dd>\n",
       "\t<dt>$cp</dt>\n",
       "\t\t<dd><style>\n",
       ".list-inline {list-style: none; margin:0; padding: 0}\n",
       ".list-inline>li {display: inline-block}\n",
       ".list-inline>li:not(:last-child)::after {content: \"\\00b7\"; padding: 0 .5ex}\n",
       "</style>\n",
       "<ol class=list-inline><li>1</li><li>4</li><li>3</li><li>2</li></ol>\n",
       "</dd>\n",
       "\t<dt>$tbp</dt>\n",
       "\t\t<dd><style>\n",
       ".list-inline {list-style: none; margin:0; padding: 0}\n",
       ".list-inline>li {display: inline-block}\n",
       ".list-inline>li:not(:last-child)::after {content: \"\\00b7\"; padding: 0 .5ex}\n",
       "</style>\n",
       "<ol class=list-inline><li>145</li><li>160</li><li>120</li><li>130</li><li>140</li><li>172</li><li>150</li><li>110</li><li>132</li><li>117</li><li>135</li><li>112</li><li>105</li><li>124</li><li>125</li><li>142</li><li>128</li><li>170</li><li>155</li><li>104</li><li>180</li><li>138</li><li>108</li><li>134</li><li>122</li><li>115</li><li>118</li><li>100</li><li>200</li><li>94</li><li>165</li><li>102</li><li>152</li><li>101</li><li>126</li><li>174</li><li>148</li><li>178</li><li>158</li><li>192</li><li>129</li><li>144</li><li>123</li><li>136</li><li>146</li><li>106</li><li>156</li><li>154</li><li>114</li><li>164</li></ol>\n",
       "</dd>\n",
       "\t<dt>$chol</dt>\n",
       "\t\t<dd><style>\n",
       ".list-inline {list-style: none; margin:0; padding: 0}\n",
       ".list-inline>li {display: inline-block}\n",
       ".list-inline>li:not(:last-child)::after {content: \"\\00b7\"; padding: 0 .5ex}\n",
       "</style>\n",
       "<ol class=list-inline><li>233</li><li>286</li><li>229</li><li>250</li><li>204</li><li>236</li><li>268</li><li>354</li><li>254</li><li>203</li><li>192</li><li>294</li><li>256</li><li>263</li><li>199</li><li>168</li><li>239</li><li>275</li><li>266</li><li>211</li><li>283</li><li>284</li><li>224</li><li>206</li><li>219</li><li>340</li><li>226</li><li>247</li><li>167</li><li>230</li><li>335</li><li>234</li><li>177</li><li>276</li><li>353</li><li>243</li><li>225</li><li>302</li><li>212</li><li>330</li><li>175</li><li>417</li><li>197</li><li>198</li><li>290</li><li>253</li><li>172</li><li>273</li><li>213</li><li>305</li><li>216</li><li>304</li><li>188</li><li>282</li><li>185</li><li>232</li><li>326</li><li>231</li><li>269</li><li>267</li><li>248</li><li>360</li><li>258</li><li>308</li><li>245</li><li>270</li><li>208</li><li>264</li><li>321</li><li>274</li><li>325</li><li>235</li><li>257</li><li>164</li><li>141</li><li>252</li><li>255</li><li>201</li><li>222</li><li>260</li><li>182</li><li>303</li><li>265</li><li>309</li><li>307</li><li>249</li><li>186</li><li>341</li><li>183</li><li>407</li><li>217</li><li>288</li><li>220</li><li>209</li><li>227</li><li>261</li><li>174</li><li>281</li><li>221</li><li>205</li><li>240</li><li>289</li><li>318</li><li>298</li><li>564</li><li>246</li><li>322</li><li>299</li><li>300</li><li>293</li><li>277</li><li>214</li><li>207</li><li>223</li><li>160</li><li>394</li><li>184</li><li>315</li><li>409</li><li>244</li><li>195</li><li>196</li><li>126</li><li>313</li><li>259</li><li>200</li><li>262</li><li>215</li><li>228</li><li>193</li><li>271</li><li>210</li><li>327</li><li>149</li><li>295</li><li>306</li><li>178</li><li>237</li><li>218</li><li>242</li><li>319</li><li>166</li><li>180</li><li>311</li><li>278</li><li>342</li><li>169</li><li>187</li><li>157</li><li>176</li><li>241</li><li>131</li></ol>\n",
       "</dd>\n",
       "\t<dt>$fbs</dt>\n",
       "\t\t<dd><style>\n",
       ".list-inline {list-style: none; margin:0; padding: 0}\n",
       ".list-inline>li {display: inline-block}\n",
       ".list-inline>li:not(:last-child)::after {content: \"\\00b7\"; padding: 0 .5ex}\n",
       "</style>\n",
       "<ol class=list-inline><li>1</li><li>0</li></ol>\n",
       "</dd>\n",
       "\t<dt>$rstcg</dt>\n",
       "\t\t<dd><style>\n",
       ".list-inline {list-style: none; margin:0; padding: 0}\n",
       ".list-inline>li {display: inline-block}\n",
       ".list-inline>li:not(:last-child)::after {content: \"\\00b7\"; padding: 0 .5ex}\n",
       "</style>\n",
       "<ol class=list-inline><li>2</li><li>0</li><li>1</li></ol>\n",
       "</dd>\n",
       "\t<dt>$thlch</dt>\n",
       "\t\t<dd><style>\n",
       ".list-inline {list-style: none; margin:0; padding: 0}\n",
       ".list-inline>li {display: inline-block}\n",
       ".list-inline>li:not(:last-child)::after {content: \"\\00b7\"; padding: 0 .5ex}\n",
       "</style>\n",
       "<ol class=list-inline><li>150</li><li>108</li><li>129</li><li>187</li><li>172</li><li>178</li><li>160</li><li>163</li><li>147</li><li>155</li><li>148</li><li>153</li><li>142</li><li>173</li><li>162</li><li>174</li><li>168</li><li>139</li><li>171</li><li>144</li><li>132</li><li>158</li><li>114</li><li>151</li><li>161</li><li>179</li><li>120</li><li>112</li><li>137</li><li>157</li><li>169</li><li>165</li><li>123</li><li>128</li><li>152</li><li>140</li><li>188</li><li>109</li><li>125</li><li>131</li><li>170</li><li>113</li><li>99</li><li>177</li><li>141</li><li>180</li><li>111</li><li>143</li><li>182</li><li>156</li><li>115</li><li>149</li><li>145</li><li>146</li><li>175</li><li>186</li><li>185</li><li>159</li><li>130</li><li>190</li><li>136</li><li>97</li><li>127</li><li>154</li><li>133</li><li>126</li><li>202</li><li>103</li><li>166</li><li>164</li><li>184</li><li>124</li><li>122</li><li>96</li><li>138</li><li>88</li><li>105</li><li>194</li><li>195</li><li>106</li><li>167</li><li>95</li><li>192</li><li>117</li><li>121</li><li>116</li><li>71</li><li>118</li><li>181</li><li>134</li><li>90</li></ol>\n",
       "</dd>\n",
       "\t<dt>$exng</dt>\n",
       "\t\t<dd><style>\n",
       ".list-inline {list-style: none; margin:0; padding: 0}\n",
       ".list-inline>li {display: inline-block}\n",
       ".list-inline>li:not(:last-child)::after {content: \"\\00b7\"; padding: 0 .5ex}\n",
       "</style>\n",
       "<ol class=list-inline><li>0</li><li>1</li></ol>\n",
       "</dd>\n",
       "\t<dt>$opeak</dt>\n",
       "\t\t<dd><style>\n",
       ".list-inline {list-style: none; margin:0; padding: 0}\n",
       ".list-inline>li {display: inline-block}\n",
       ".list-inline>li:not(:last-child)::after {content: \"\\00b7\"; padding: 0 .5ex}\n",
       "</style>\n",
       "<ol class=list-inline><li>2.3</li><li>1.5</li><li>2.6</li><li>3.5</li><li>1.4</li><li>0.8</li><li>3.6</li><li>0.6</li><li>3.1</li><li>0.4</li><li>1.3</li><li>0</li><li>0.5</li><li>1.6</li><li>1</li><li>1.2</li><li>0.2</li><li>1.8</li><li>3.2</li><li>2.4</li><li>2</li><li>2.5</li><li>2.2</li><li>2.8</li><li>3</li><li>3.4</li><li>6.2</li><li>4</li><li>5.6</li><li>2.9</li><li>0.1</li><li>2.1</li><li>1.9</li><li>4.2</li><li>0.9</li><li>1.1</li><li>3.8</li><li>0.7</li><li>0.3</li><li>4.4</li></ol>\n",
       "</dd>\n",
       "\t<dt>$slope</dt>\n",
       "\t\t<dd><style>\n",
       ".list-inline {list-style: none; margin:0; padding: 0}\n",
       ".list-inline>li {display: inline-block}\n",
       ".list-inline>li:not(:last-child)::after {content: \"\\00b7\"; padding: 0 .5ex}\n",
       "</style>\n",
       "<ol class=list-inline><li>3</li><li>2</li><li>1</li></ol>\n",
       "</dd>\n",
       "\t<dt>$ca</dt>\n",
       "\t\t<dd><style>\n",
       ".list-inline {list-style: none; margin:0; padding: 0}\n",
       ".list-inline>li {display: inline-block}\n",
       ".list-inline>li:not(:last-child)::after {content: \"\\00b7\"; padding: 0 .5ex}\n",
       "</style>\n",
       "<ol class=list-inline><li>0</li><li>3</li><li>2</li><li>1</li></ol>\n",
       "</dd>\n",
       "\t<dt>$thal</dt>\n",
       "\t\t<dd><style>\n",
       ".list-inline {list-style: none; margin:0; padding: 0}\n",
       ".list-inline>li {display: inline-block}\n",
       ".list-inline>li:not(:last-child)::after {content: \"\\00b7\"; padding: 0 .5ex}\n",
       "</style>\n",
       "<ol class=list-inline><li>1</li><li>0</li><li>2</li></ol>\n",
       "</dd>\n",
       "\t<dt>$Target</dt>\n",
       "\t\t<dd><style>\n",
       ".list-inline {list-style: none; margin:0; padding: 0}\n",
       ".list-inline>li {display: inline-block}\n",
       ".list-inline>li:not(:last-child)::after {content: \"\\00b7\"; padding: 0 .5ex}\n",
       "</style>\n",
       "<ol class=list-inline><li>0</li><li>1</li></ol>\n",
       "</dd>\n",
       "</dl>\n"
      ],
      "text/latex": [
       "\\begin{description}\n",
       "\\item[\\$age] \\begin{enumerate*}\n",
       "\\item 63\n",
       "\\item 67\n",
       "\\item 37\n",
       "\\item 41\n",
       "\\item 56\n",
       "\\item 62\n",
       "\\item 57\n",
       "\\item 53\n",
       "\\item 44\n",
       "\\item 52\n",
       "\\item 48\n",
       "\\item 54\n",
       "\\item 49\n",
       "\\item 64\n",
       "\\item 58\n",
       "\\item 60\n",
       "\\item 50\n",
       "\\item 66\n",
       "\\item 43\n",
       "\\item 40\n",
       "\\item 69\n",
       "\\item 59\n",
       "\\item 42\n",
       "\\item 55\n",
       "\\item 61\n",
       "\\item 65\n",
       "\\item 71\n",
       "\\item 51\n",
       "\\item 46\n",
       "\\item 45\n",
       "\\item 39\n",
       "\\item 68\n",
       "\\item 47\n",
       "\\item 34\n",
       "\\item 35\n",
       "\\item 29\n",
       "\\item 70\n",
       "\\item 77\n",
       "\\item 38\n",
       "\\item 74\n",
       "\\item 76\n",
       "\\end{enumerate*}\n",
       "\n",
       "\\item[\\$sex] \\begin{enumerate*}\n",
       "\\item 1\n",
       "\\item 0\n",
       "\\end{enumerate*}\n",
       "\n",
       "\\item[\\$cp] \\begin{enumerate*}\n",
       "\\item 1\n",
       "\\item 4\n",
       "\\item 3\n",
       "\\item 2\n",
       "\\end{enumerate*}\n",
       "\n",
       "\\item[\\$tbp] \\begin{enumerate*}\n",
       "\\item 145\n",
       "\\item 160\n",
       "\\item 120\n",
       "\\item 130\n",
       "\\item 140\n",
       "\\item 172\n",
       "\\item 150\n",
       "\\item 110\n",
       "\\item 132\n",
       "\\item 117\n",
       "\\item 135\n",
       "\\item 112\n",
       "\\item 105\n",
       "\\item 124\n",
       "\\item 125\n",
       "\\item 142\n",
       "\\item 128\n",
       "\\item 170\n",
       "\\item 155\n",
       "\\item 104\n",
       "\\item 180\n",
       "\\item 138\n",
       "\\item 108\n",
       "\\item 134\n",
       "\\item 122\n",
       "\\item 115\n",
       "\\item 118\n",
       "\\item 100\n",
       "\\item 200\n",
       "\\item 94\n",
       "\\item 165\n",
       "\\item 102\n",
       "\\item 152\n",
       "\\item 101\n",
       "\\item 126\n",
       "\\item 174\n",
       "\\item 148\n",
       "\\item 178\n",
       "\\item 158\n",
       "\\item 192\n",
       "\\item 129\n",
       "\\item 144\n",
       "\\item 123\n",
       "\\item 136\n",
       "\\item 146\n",
       "\\item 106\n",
       "\\item 156\n",
       "\\item 154\n",
       "\\item 114\n",
       "\\item 164\n",
       "\\end{enumerate*}\n",
       "\n",
       "\\item[\\$chol] \\begin{enumerate*}\n",
       "\\item 233\n",
       "\\item 286\n",
       "\\item 229\n",
       "\\item 250\n",
       "\\item 204\n",
       "\\item 236\n",
       "\\item 268\n",
       "\\item 354\n",
       "\\item 254\n",
       "\\item 203\n",
       "\\item 192\n",
       "\\item 294\n",
       "\\item 256\n",
       "\\item 263\n",
       "\\item 199\n",
       "\\item 168\n",
       "\\item 239\n",
       "\\item 275\n",
       "\\item 266\n",
       "\\item 211\n",
       "\\item 283\n",
       "\\item 284\n",
       "\\item 224\n",
       "\\item 206\n",
       "\\item 219\n",
       "\\item 340\n",
       "\\item 226\n",
       "\\item 247\n",
       "\\item 167\n",
       "\\item 230\n",
       "\\item 335\n",
       "\\item 234\n",
       "\\item 177\n",
       "\\item 276\n",
       "\\item 353\n",
       "\\item 243\n",
       "\\item 225\n",
       "\\item 302\n",
       "\\item 212\n",
       "\\item 330\n",
       "\\item 175\n",
       "\\item 417\n",
       "\\item 197\n",
       "\\item 198\n",
       "\\item 290\n",
       "\\item 253\n",
       "\\item 172\n",
       "\\item 273\n",
       "\\item 213\n",
       "\\item 305\n",
       "\\item 216\n",
       "\\item 304\n",
       "\\item 188\n",
       "\\item 282\n",
       "\\item 185\n",
       "\\item 232\n",
       "\\item 326\n",
       "\\item 231\n",
       "\\item 269\n",
       "\\item 267\n",
       "\\item 248\n",
       "\\item 360\n",
       "\\item 258\n",
       "\\item 308\n",
       "\\item 245\n",
       "\\item 270\n",
       "\\item 208\n",
       "\\item 264\n",
       "\\item 321\n",
       "\\item 274\n",
       "\\item 325\n",
       "\\item 235\n",
       "\\item 257\n",
       "\\item 164\n",
       "\\item 141\n",
       "\\item 252\n",
       "\\item 255\n",
       "\\item 201\n",
       "\\item 222\n",
       "\\item 260\n",
       "\\item 182\n",
       "\\item 303\n",
       "\\item 265\n",
       "\\item 309\n",
       "\\item 307\n",
       "\\item 249\n",
       "\\item 186\n",
       "\\item 341\n",
       "\\item 183\n",
       "\\item 407\n",
       "\\item 217\n",
       "\\item 288\n",
       "\\item 220\n",
       "\\item 209\n",
       "\\item 227\n",
       "\\item 261\n",
       "\\item 174\n",
       "\\item 281\n",
       "\\item 221\n",
       "\\item 205\n",
       "\\item 240\n",
       "\\item 289\n",
       "\\item 318\n",
       "\\item 298\n",
       "\\item 564\n",
       "\\item 246\n",
       "\\item 322\n",
       "\\item 299\n",
       "\\item 300\n",
       "\\item 293\n",
       "\\item 277\n",
       "\\item 214\n",
       "\\item 207\n",
       "\\item 223\n",
       "\\item 160\n",
       "\\item 394\n",
       "\\item 184\n",
       "\\item 315\n",
       "\\item 409\n",
       "\\item 244\n",
       "\\item 195\n",
       "\\item 196\n",
       "\\item 126\n",
       "\\item 313\n",
       "\\item 259\n",
       "\\item 200\n",
       "\\item 262\n",
       "\\item 215\n",
       "\\item 228\n",
       "\\item 193\n",
       "\\item 271\n",
       "\\item 210\n",
       "\\item 327\n",
       "\\item 149\n",
       "\\item 295\n",
       "\\item 306\n",
       "\\item 178\n",
       "\\item 237\n",
       "\\item 218\n",
       "\\item 242\n",
       "\\item 319\n",
       "\\item 166\n",
       "\\item 180\n",
       "\\item 311\n",
       "\\item 278\n",
       "\\item 342\n",
       "\\item 169\n",
       "\\item 187\n",
       "\\item 157\n",
       "\\item 176\n",
       "\\item 241\n",
       "\\item 131\n",
       "\\end{enumerate*}\n",
       "\n",
       "\\item[\\$fbs] \\begin{enumerate*}\n",
       "\\item 1\n",
       "\\item 0\n",
       "\\end{enumerate*}\n",
       "\n",
       "\\item[\\$rstcg] \\begin{enumerate*}\n",
       "\\item 2\n",
       "\\item 0\n",
       "\\item 1\n",
       "\\end{enumerate*}\n",
       "\n",
       "\\item[\\$thlch] \\begin{enumerate*}\n",
       "\\item 150\n",
       "\\item 108\n",
       "\\item 129\n",
       "\\item 187\n",
       "\\item 172\n",
       "\\item 178\n",
       "\\item 160\n",
       "\\item 163\n",
       "\\item 147\n",
       "\\item 155\n",
       "\\item 148\n",
       "\\item 153\n",
       "\\item 142\n",
       "\\item 173\n",
       "\\item 162\n",
       "\\item 174\n",
       "\\item 168\n",
       "\\item 139\n",
       "\\item 171\n",
       "\\item 144\n",
       "\\item 132\n",
       "\\item 158\n",
       "\\item 114\n",
       "\\item 151\n",
       "\\item 161\n",
       "\\item 179\n",
       "\\item 120\n",
       "\\item 112\n",
       "\\item 137\n",
       "\\item 157\n",
       "\\item 169\n",
       "\\item 165\n",
       "\\item 123\n",
       "\\item 128\n",
       "\\item 152\n",
       "\\item 140\n",
       "\\item 188\n",
       "\\item 109\n",
       "\\item 125\n",
       "\\item 131\n",
       "\\item 170\n",
       "\\item 113\n",
       "\\item 99\n",
       "\\item 177\n",
       "\\item 141\n",
       "\\item 180\n",
       "\\item 111\n",
       "\\item 143\n",
       "\\item 182\n",
       "\\item 156\n",
       "\\item 115\n",
       "\\item 149\n",
       "\\item 145\n",
       "\\item 146\n",
       "\\item 175\n",
       "\\item 186\n",
       "\\item 185\n",
       "\\item 159\n",
       "\\item 130\n",
       "\\item 190\n",
       "\\item 136\n",
       "\\item 97\n",
       "\\item 127\n",
       "\\item 154\n",
       "\\item 133\n",
       "\\item 126\n",
       "\\item 202\n",
       "\\item 103\n",
       "\\item 166\n",
       "\\item 164\n",
       "\\item 184\n",
       "\\item 124\n",
       "\\item 122\n",
       "\\item 96\n",
       "\\item 138\n",
       "\\item 88\n",
       "\\item 105\n",
       "\\item 194\n",
       "\\item 195\n",
       "\\item 106\n",
       "\\item 167\n",
       "\\item 95\n",
       "\\item 192\n",
       "\\item 117\n",
       "\\item 121\n",
       "\\item 116\n",
       "\\item 71\n",
       "\\item 118\n",
       "\\item 181\n",
       "\\item 134\n",
       "\\item 90\n",
       "\\end{enumerate*}\n",
       "\n",
       "\\item[\\$exng] \\begin{enumerate*}\n",
       "\\item 0\n",
       "\\item 1\n",
       "\\end{enumerate*}\n",
       "\n",
       "\\item[\\$opeak] \\begin{enumerate*}\n",
       "\\item 2.3\n",
       "\\item 1.5\n",
       "\\item 2.6\n",
       "\\item 3.5\n",
       "\\item 1.4\n",
       "\\item 0.8\n",
       "\\item 3.6\n",
       "\\item 0.6\n",
       "\\item 3.1\n",
       "\\item 0.4\n",
       "\\item 1.3\n",
       "\\item 0\n",
       "\\item 0.5\n",
       "\\item 1.6\n",
       "\\item 1\n",
       "\\item 1.2\n",
       "\\item 0.2\n",
       "\\item 1.8\n",
       "\\item 3.2\n",
       "\\item 2.4\n",
       "\\item 2\n",
       "\\item 2.5\n",
       "\\item 2.2\n",
       "\\item 2.8\n",
       "\\item 3\n",
       "\\item 3.4\n",
       "\\item 6.2\n",
       "\\item 4\n",
       "\\item 5.6\n",
       "\\item 2.9\n",
       "\\item 0.1\n",
       "\\item 2.1\n",
       "\\item 1.9\n",
       "\\item 4.2\n",
       "\\item 0.9\n",
       "\\item 1.1\n",
       "\\item 3.8\n",
       "\\item 0.7\n",
       "\\item 0.3\n",
       "\\item 4.4\n",
       "\\end{enumerate*}\n",
       "\n",
       "\\item[\\$slope] \\begin{enumerate*}\n",
       "\\item 3\n",
       "\\item 2\n",
       "\\item 1\n",
       "\\end{enumerate*}\n",
       "\n",
       "\\item[\\$ca] \\begin{enumerate*}\n",
       "\\item 0\n",
       "\\item 3\n",
       "\\item 2\n",
       "\\item 1\n",
       "\\end{enumerate*}\n",
       "\n",
       "\\item[\\$thal] \\begin{enumerate*}\n",
       "\\item 1\n",
       "\\item 0\n",
       "\\item 2\n",
       "\\end{enumerate*}\n",
       "\n",
       "\\item[\\$Target] \\begin{enumerate*}\n",
       "\\item 0\n",
       "\\item 1\n",
       "\\end{enumerate*}\n",
       "\n",
       "\\end{description}\n"
      ],
      "text/markdown": [
       "$age\n",
       ":   1. 63\n",
       "2. 67\n",
       "3. 37\n",
       "4. 41\n",
       "5. 56\n",
       "6. 62\n",
       "7. 57\n",
       "8. 53\n",
       "9. 44\n",
       "10. 52\n",
       "11. 48\n",
       "12. 54\n",
       "13. 49\n",
       "14. 64\n",
       "15. 58\n",
       "16. 60\n",
       "17. 50\n",
       "18. 66\n",
       "19. 43\n",
       "20. 40\n",
       "21. 69\n",
       "22. 59\n",
       "23. 42\n",
       "24. 55\n",
       "25. 61\n",
       "26. 65\n",
       "27. 71\n",
       "28. 51\n",
       "29. 46\n",
       "30. 45\n",
       "31. 39\n",
       "32. 68\n",
       "33. 47\n",
       "34. 34\n",
       "35. 35\n",
       "36. 29\n",
       "37. 70\n",
       "38. 77\n",
       "39. 38\n",
       "40. 74\n",
       "41. 76\n",
       "\n",
       "\n",
       "\n",
       "$sex\n",
       ":   1. 1\n",
       "2. 0\n",
       "\n",
       "\n",
       "\n",
       "$cp\n",
       ":   1. 1\n",
       "2. 4\n",
       "3. 3\n",
       "4. 2\n",
       "\n",
       "\n",
       "\n",
       "$tbp\n",
       ":   1. 145\n",
       "2. 160\n",
       "3. 120\n",
       "4. 130\n",
       "5. 140\n",
       "6. 172\n",
       "7. 150\n",
       "8. 110\n",
       "9. 132\n",
       "10. 117\n",
       "11. 135\n",
       "12. 112\n",
       "13. 105\n",
       "14. 124\n",
       "15. 125\n",
       "16. 142\n",
       "17. 128\n",
       "18. 170\n",
       "19. 155\n",
       "20. 104\n",
       "21. 180\n",
       "22. 138\n",
       "23. 108\n",
       "24. 134\n",
       "25. 122\n",
       "26. 115\n",
       "27. 118\n",
       "28. 100\n",
       "29. 200\n",
       "30. 94\n",
       "31. 165\n",
       "32. 102\n",
       "33. 152\n",
       "34. 101\n",
       "35. 126\n",
       "36. 174\n",
       "37. 148\n",
       "38. 178\n",
       "39. 158\n",
       "40. 192\n",
       "41. 129\n",
       "42. 144\n",
       "43. 123\n",
       "44. 136\n",
       "45. 146\n",
       "46. 106\n",
       "47. 156\n",
       "48. 154\n",
       "49. 114\n",
       "50. 164\n",
       "\n",
       "\n",
       "\n",
       "$chol\n",
       ":   1. 233\n",
       "2. 286\n",
       "3. 229\n",
       "4. 250\n",
       "5. 204\n",
       "6. 236\n",
       "7. 268\n",
       "8. 354\n",
       "9. 254\n",
       "10. 203\n",
       "11. 192\n",
       "12. 294\n",
       "13. 256\n",
       "14. 263\n",
       "15. 199\n",
       "16. 168\n",
       "17. 239\n",
       "18. 275\n",
       "19. 266\n",
       "20. 211\n",
       "21. 283\n",
       "22. 284\n",
       "23. 224\n",
       "24. 206\n",
       "25. 219\n",
       "26. 340\n",
       "27. 226\n",
       "28. 247\n",
       "29. 167\n",
       "30. 230\n",
       "31. 335\n",
       "32. 234\n",
       "33. 177\n",
       "34. 276\n",
       "35. 353\n",
       "36. 243\n",
       "37. 225\n",
       "38. 302\n",
       "39. 212\n",
       "40. 330\n",
       "41. 175\n",
       "42. 417\n",
       "43. 197\n",
       "44. 198\n",
       "45. 290\n",
       "46. 253\n",
       "47. 172\n",
       "48. 273\n",
       "49. 213\n",
       "50. 305\n",
       "51. 216\n",
       "52. 304\n",
       "53. 188\n",
       "54. 282\n",
       "55. 185\n",
       "56. 232\n",
       "57. 326\n",
       "58. 231\n",
       "59. 269\n",
       "60. 267\n",
       "61. 248\n",
       "62. 360\n",
       "63. 258\n",
       "64. 308\n",
       "65. 245\n",
       "66. 270\n",
       "67. 208\n",
       "68. 264\n",
       "69. 321\n",
       "70. 274\n",
       "71. 325\n",
       "72. 235\n",
       "73. 257\n",
       "74. 164\n",
       "75. 141\n",
       "76. 252\n",
       "77. 255\n",
       "78. 201\n",
       "79. 222\n",
       "80. 260\n",
       "81. 182\n",
       "82. 303\n",
       "83. 265\n",
       "84. 309\n",
       "85. 307\n",
       "86. 249\n",
       "87. 186\n",
       "88. 341\n",
       "89. 183\n",
       "90. 407\n",
       "91. 217\n",
       "92. 288\n",
       "93. 220\n",
       "94. 209\n",
       "95. 227\n",
       "96. 261\n",
       "97. 174\n",
       "98. 281\n",
       "99. 221\n",
       "100. 205\n",
       "101. 240\n",
       "102. 289\n",
       "103. 318\n",
       "104. 298\n",
       "105. 564\n",
       "106. 246\n",
       "107. 322\n",
       "108. 299\n",
       "109. 300\n",
       "110. 293\n",
       "111. 277\n",
       "112. 214\n",
       "113. 207\n",
       "114. 223\n",
       "115. 160\n",
       "116. 394\n",
       "117. 184\n",
       "118. 315\n",
       "119. 409\n",
       "120. 244\n",
       "121. 195\n",
       "122. 196\n",
       "123. 126\n",
       "124. 313\n",
       "125. 259\n",
       "126. 200\n",
       "127. 262\n",
       "128. 215\n",
       "129. 228\n",
       "130. 193\n",
       "131. 271\n",
       "132. 210\n",
       "133. 327\n",
       "134. 149\n",
       "135. 295\n",
       "136. 306\n",
       "137. 178\n",
       "138. 237\n",
       "139. 218\n",
       "140. 242\n",
       "141. 319\n",
       "142. 166\n",
       "143. 180\n",
       "144. 311\n",
       "145. 278\n",
       "146. 342\n",
       "147. 169\n",
       "148. 187\n",
       "149. 157\n",
       "150. 176\n",
       "151. 241\n",
       "152. 131\n",
       "\n",
       "\n",
       "\n",
       "$fbs\n",
       ":   1. 1\n",
       "2. 0\n",
       "\n",
       "\n",
       "\n",
       "$rstcg\n",
       ":   1. 2\n",
       "2. 0\n",
       "3. 1\n",
       "\n",
       "\n",
       "\n",
       "$thlch\n",
       ":   1. 150\n",
       "2. 108\n",
       "3. 129\n",
       "4. 187\n",
       "5. 172\n",
       "6. 178\n",
       "7. 160\n",
       "8. 163\n",
       "9. 147\n",
       "10. 155\n",
       "11. 148\n",
       "12. 153\n",
       "13. 142\n",
       "14. 173\n",
       "15. 162\n",
       "16. 174\n",
       "17. 168\n",
       "18. 139\n",
       "19. 171\n",
       "20. 144\n",
       "21. 132\n",
       "22. 158\n",
       "23. 114\n",
       "24. 151\n",
       "25. 161\n",
       "26. 179\n",
       "27. 120\n",
       "28. 112\n",
       "29. 137\n",
       "30. 157\n",
       "31. 169\n",
       "32. 165\n",
       "33. 123\n",
       "34. 128\n",
       "35. 152\n",
       "36. 140\n",
       "37. 188\n",
       "38. 109\n",
       "39. 125\n",
       "40. 131\n",
       "41. 170\n",
       "42. 113\n",
       "43. 99\n",
       "44. 177\n",
       "45. 141\n",
       "46. 180\n",
       "47. 111\n",
       "48. 143\n",
       "49. 182\n",
       "50. 156\n",
       "51. 115\n",
       "52. 149\n",
       "53. 145\n",
       "54. 146\n",
       "55. 175\n",
       "56. 186\n",
       "57. 185\n",
       "58. 159\n",
       "59. 130\n",
       "60. 190\n",
       "61. 136\n",
       "62. 97\n",
       "63. 127\n",
       "64. 154\n",
       "65. 133\n",
       "66. 126\n",
       "67. 202\n",
       "68. 103\n",
       "69. 166\n",
       "70. 164\n",
       "71. 184\n",
       "72. 124\n",
       "73. 122\n",
       "74. 96\n",
       "75. 138\n",
       "76. 88\n",
       "77. 105\n",
       "78. 194\n",
       "79. 195\n",
       "80. 106\n",
       "81. 167\n",
       "82. 95\n",
       "83. 192\n",
       "84. 117\n",
       "85. 121\n",
       "86. 116\n",
       "87. 71\n",
       "88. 118\n",
       "89. 181\n",
       "90. 134\n",
       "91. 90\n",
       "\n",
       "\n",
       "\n",
       "$exng\n",
       ":   1. 0\n",
       "2. 1\n",
       "\n",
       "\n",
       "\n",
       "$opeak\n",
       ":   1. 2.3\n",
       "2. 1.5\n",
       "3. 2.6\n",
       "4. 3.5\n",
       "5. 1.4\n",
       "6. 0.8\n",
       "7. 3.6\n",
       "8. 0.6\n",
       "9. 3.1\n",
       "10. 0.4\n",
       "11. 1.3\n",
       "12. 0\n",
       "13. 0.5\n",
       "14. 1.6\n",
       "15. 1\n",
       "16. 1.2\n",
       "17. 0.2\n",
       "18. 1.8\n",
       "19. 3.2\n",
       "20. 2.4\n",
       "21. 2\n",
       "22. 2.5\n",
       "23. 2.2\n",
       "24. 2.8\n",
       "25. 3\n",
       "26. 3.4\n",
       "27. 6.2\n",
       "28. 4\n",
       "29. 5.6\n",
       "30. 2.9\n",
       "31. 0.1\n",
       "32. 2.1\n",
       "33. 1.9\n",
       "34. 4.2\n",
       "35. 0.9\n",
       "36. 1.1\n",
       "37. 3.8\n",
       "38. 0.7\n",
       "39. 0.3\n",
       "40. 4.4\n",
       "\n",
       "\n",
       "\n",
       "$slope\n",
       ":   1. 3\n",
       "2. 2\n",
       "3. 1\n",
       "\n",
       "\n",
       "\n",
       "$ca\n",
       ":   1. 0\n",
       "2. 3\n",
       "3. 2\n",
       "4. 1\n",
       "\n",
       "\n",
       "\n",
       "$thal\n",
       ":   1. 1\n",
       "2. 0\n",
       "3. 2\n",
       "\n",
       "\n",
       "\n",
       "$Target\n",
       ":   1. 0\n",
       "2. 1\n",
       "\n",
       "\n",
       "\n",
       "\n",
       "\n"
      ],
      "text/plain": [
       "$age\n",
       " [1] 63 67 37 41 56 62 57 53 44 52 48 54 49 64 58 60 50 66 43 40 69 59 42 55 61\n",
       "[26] 65 71 51 46 45 39 68 47 34 35 29 70 77 38 74 76\n",
       "\n",
       "$sex\n",
       "[1] 1 0\n",
       "\n",
       "$cp\n",
       "[1] 1 4 3 2\n",
       "\n",
       "$tbp\n",
       " [1] 145 160 120 130 140 172 150 110 132 117 135 112 105 124 125 142 128 170 155\n",
       "[20] 104 180 138 108 134 122 115 118 100 200  94 165 102 152 101 126 174 148 178\n",
       "[39] 158 192 129 144 123 136 146 106 156 154 114 164\n",
       "\n",
       "$chol\n",
       "  [1] 233 286 229 250 204 236 268 354 254 203 192 294 256 263 199 168 239 275\n",
       " [19] 266 211 283 284 224 206 219 340 226 247 167 230 335 234 177 276 353 243\n",
       " [37] 225 302 212 330 175 417 197 198 290 253 172 273 213 305 216 304 188 282\n",
       " [55] 185 232 326 231 269 267 248 360 258 308 245 270 208 264 321 274 325 235\n",
       " [73] 257 164 141 252 255 201 222 260 182 303 265 309 307 249 186 341 183 407\n",
       " [91] 217 288 220 209 227 261 174 281 221 205 240 289 318 298 564 246 322 299\n",
       "[109] 300 293 277 214 207 223 160 394 184 315 409 244 195 196 126 313 259 200\n",
       "[127] 262 215 228 193 271 210 327 149 295 306 178 237 218 242 319 166 180 311\n",
       "[145] 278 342 169 187 157 176 241 131\n",
       "\n",
       "$fbs\n",
       "[1] 1 0\n",
       "\n",
       "$rstcg\n",
       "[1] 2 0 1\n",
       "\n",
       "$thlch\n",
       " [1] 150 108 129 187 172 178 160 163 147 155 148 153 142 173 162 174 168 139 171\n",
       "[20] 144 132 158 114 151 161 179 120 112 137 157 169 165 123 128 152 140 188 109\n",
       "[39] 125 131 170 113  99 177 141 180 111 143 182 156 115 149 145 146 175 186 185\n",
       "[58] 159 130 190 136  97 127 154 133 126 202 103 166 164 184 124 122  96 138  88\n",
       "[77] 105 194 195 106 167  95 192 117 121 116  71 118 181 134  90\n",
       "\n",
       "$exng\n",
       "[1] 0 1\n",
       "\n",
       "$opeak\n",
       " [1] 2.3 1.5 2.6 3.5 1.4 0.8 3.6 0.6 3.1 0.4 1.3 0.0 0.5 1.6 1.0 1.2 0.2 1.8 3.2\n",
       "[20] 2.4 2.0 2.5 2.2 2.8 3.0 3.4 6.2 4.0 5.6 2.9 0.1 2.1 1.9 4.2 0.9 1.1 3.8 0.7\n",
       "[39] 0.3 4.4\n",
       "\n",
       "$slope\n",
       "[1] 3 2 1\n",
       "\n",
       "$ca\n",
       "[1] 0 3 2 1\n",
       "\n",
       "$thal\n",
       "[1] 1 0 2\n",
       "\n",
       "$Target\n",
       "[1] 0 1\n"
      ]
     },
     "metadata": {},
     "output_type": "display_data"
    }
   ],
   "source": [
    "#Looking for unique values for each attribute \n",
    "sapply(df,unique)"
   ]
  },
  {
   "cell_type": "code",
   "execution_count": 15,
   "id": "7b48a1c9-6123-4761-a00a-fc4f902f2cea",
   "metadata": {},
   "outputs": [
    {
     "data": {
      "text/html": [
       "TRUE"
      ],
      "text/latex": [
       "TRUE"
      ],
      "text/markdown": [
       "TRUE"
      ],
      "text/plain": [
       "[1] TRUE"
      ]
     },
     "metadata": {},
     "output_type": "display_data"
    }
   ],
   "source": [
    "## <--converting from \"integer\" to \"factor\" data type-->\n",
    "df2<-lapply(select(df,c(sex,cp,fbs,rstcg,rstcg,exng,slope,ca,thal,Target)),as.factor)\n",
    "df2<-as.data.frame(df2)\n",
    "df2<-mutate(df2,\n",
    "      age=df$age,\n",
    "      tbp=df$tbp,\n",
    "      chol=df$chol,\n",
    "      thlch=df$thlch,\n",
    "      opeak=df$opeak\n",
    "      )\n",
    "#Reordering the Atrributes in df2\n",
    "df2<-select(df2,age,sex,cp,tbp,chol,fbs,rstcg,thlch,exng,opeak,slope,ca,thal,Target)\n",
    "df<-df2\n",
    "is.factor(df$cp)\n"
   ]
  },
  {
   "cell_type": "code",
   "execution_count": 16,
   "id": "93f66610-466a-4718-b408-8b7c39d85993",
   "metadata": {},
   "outputs": [
    {
     "data": {
      "text/html": [
       "FALSE"
      ],
      "text/latex": [
       "FALSE"
      ],
      "text/markdown": [
       "FALSE"
      ],
      "text/plain": [
       "[1] FALSE"
      ]
     },
     "metadata": {},
     "output_type": "display_data"
    }
   ],
   "source": [
    "#Checking for any missing values\n",
    "any(is.na(df))"
   ]
  },
  {
   "cell_type": "markdown",
   "id": "839df314-551f-4fed-a1b9-958a3591ad08",
   "metadata": {},
   "source": [
    "**It seems that there is no any missing values in the dataset;so we will need just one visualization process for data exploration**"
   ]
  },
  {
   "cell_type": "markdown",
   "id": "12403e4f-d0e6-4e23-8c9b-8c6df2540fd0",
   "metadata": {},
   "source": [
    "#### Data Visualization:"
   ]
  },
  {
   "cell_type": "markdown",
   "id": "581bbb55-a01d-4c6e-9db8-6b6aa892a92e",
   "metadata": {},
   "source": [
    "Data Visualization will be done based on the datatype of the variables.\n",
    "In **Heart Disease** dataset mainly there are two datatype:\n",
    "\n",
    "**1-Categorical Datatype:** Bar chart,Pie chart will be used for Categorical Datatype\n",
    "\n",
    "**2-Continuous Datatype:** Histgrame,Boxplots for Continuous Datatype\n",
    "\n",
    "Another considration in data Visualization is:\n",
    "\n",
    "**1-Variation:** which consider plotting the only one varaible\n",
    "\n",
    "**2-Covariation:** plotting the relation between two or more variables"
   ]
  },
  {
   "cell_type": "markdown",
   "id": "2f7babbc-63c4-43d7-a92f-48a4ff78d52f",
   "metadata": {},
   "source": [
    "##### Variation:\n",
    "Variation is the tendency of the values of a variable to change from\r\n",
    "measurement to measurement."
   ]
  },
  {
   "cell_type": "code",
   "execution_count": 83,
   "id": "990471f1-d8ec-4d04-8da0-d072dae00bf2",
   "metadata": {},
   "outputs": [
    {
     "name": "stderr",
     "output_type": "stream",
     "text": [
      "\u001b[1m\u001b[22mSaving 6.67 x 6.67 in image\n"
     ]
    },
    {
     "data": {
      "image/png": "[encoded data removed]",
      "text/plain": [
       "plot without title"
      ]
     },
     "metadata": {
      "image/png": {
       "height": 612.5,
       "width": 612.5
      }
     },
     "output_type": "display_data"
    }
   ],
   "source": [
    "#Variation:age\n",
    "ggplot(data=df)+\n",
    "        geom_histogram(mapping=aes(x=age,y=after_stat(density)),binwidth=1,fill= \"#336699\",color=\"black\")+\n",
    "          geom_density(mapping=aes(x=age),linewidth=0.85)\n",
    "ggsave(\"age.png\")"
   ]
  },
  {
   "cell_type": "code",
   "execution_count": 50,
   "id": "55e0aeae-f88f-4a51-978e-19f42725661f",
   "metadata": {},
   "outputs": [
    {
     "name": "stderr",
     "output_type": "stream",
     "text": [
      "\u001b[1m\u001b[22mSaving 6.67 x 6.67 in image\n"
     ]
    },
    {
     "data": {
      "image/png": "[encoded data removed]",
      "text/plain": [
       "plot without title"
      ]
     },
     "metadata": {
      "image/png": {
       "height": 612.5,
       "width": 612.5
      }
     },
     "output_type": "display_data"
    }
   ],
   "source": [
    "# Variation:tbp\n",
    "ggplot(data=df)+\n",
    "        geom_histogram(mapping=aes(x=tbp,y=after_stat(density)),binwidth=2,fill= \"#009999\",color=\"black\")+\n",
    "          geom_density(mapping=aes(x=tbp),linewidth=1)\n",
    "ggsave(\"tbp.png\")"
   ]
  },
  {
   "cell_type": "code",
   "execution_count": 51,
   "id": "a0088467-3470-42d0-a28d-01f346d1a697",
   "metadata": {},
   "outputs": [
    {
     "name": "stderr",
     "output_type": "stream",
     "text": [
      "\u001b[1m\u001b[22mSaving 6.67 x 6.67 in image\n"
     ]
    },
    {
     "data": {
      "image/png": "[encoded data removed]",
      "text/plain": [
       "plot without title"
      ]
     },
     "metadata": {
      "image/png": {
       "height": 612.5,
       "width": 612.5
      }
     },
     "output_type": "display_data"
    }
   ],
   "source": [
    "# Variation:chol\n",
    "ggplot(data=df)+\n",
    "        geom_histogram(mapping=aes(x=chol,y=after_stat(density)),binwidth=7,fill= \"#e63900\",color=\"black\")+\n",
    "          geom_density(mapping=aes(x=chol),linewidth=1)\n",
    "\n",
    "ggsave(\"chol.png\")"
   ]
  },
  {
   "cell_type": "code",
   "execution_count": 52,
   "id": "88fb6517-a0a6-45b8-ae5c-76b5a1ae9147",
   "metadata": {},
   "outputs": [
    {
     "name": "stderr",
     "output_type": "stream",
     "text": [
      "\u001b[1m\u001b[22mSaving 6.67 x 6.67 in image\n"
     ]
    },
    {
     "data": {
      "image/png": "[encoded data removed]",
      "text/plain": [
       "plot without title"
      ]
     },
     "metadata": {
      "image/png": {
       "height": 612.5,
       "width": 612.5
      }
     },
     "output_type": "display_data"
    }
   ],
   "source": [
    "# Variation:thlch\n",
    "ggplot(data=df)+\n",
    "        geom_histogram(mapping=aes(x=thlch,y=after_stat(density)),binwidth=2,fill= \"#b3003b\",color=\"black\")+\n",
    "          geom_density(mapping=aes(x=thlch),linewidth=1)\n",
    "ggsave(\"thlch.png\")"
   ]
  },
  {
   "cell_type": "code",
   "execution_count": 53,
   "id": "b988003f-6348-4cad-b640-b6e3dac2e641",
   "metadata": {},
   "outputs": [
    {
     "name": "stderr",
     "output_type": "stream",
     "text": [
      "\u001b[1m\u001b[22mSaving 6.67 x 6.67 in image\n"
     ]
    },
    {
     "data": {
      "image/png": "[encoded data removed]",
      "text/plain": [
       "plot without title"
      ]
     },
     "metadata": {
      "image/png": {
       "height": 612.5,
       "width": 612.5
      }
     },
     "output_type": "display_data"
    }
   ],
   "source": [
    "# Variation:opeak\n",
    "ggplot(data=df)+\n",
    "        geom_histogram(mapping=aes(x=opeak,y=after_stat(density)),binwidth=0.1,fill= \"#476b6b\",color=\"black\")+\n",
    "            geom_density(mapping=aes(x=opeak),linewidth=1)\n",
    "ggsave(\"opeak.png\")"
   ]
  },
  {
   "cell_type": "code",
   "execution_count": 54,
   "id": "6dd3141a-3c13-4d7c-976f-42a7909360bf",
   "metadata": {},
   "outputs": [
    {
     "name": "stderr",
     "output_type": "stream",
     "text": [
      "\u001b[1m\u001b[22mSaving 6.67 x 6.67 in image\n"
     ]
    },
    {
     "data": {
      "image/png": "[encoded data removed]",
      "text/plain": [
       "plot without title"
      ]
     },
     "metadata": {
      "image/png": {
       "height": 612.5,
       "width": 612.5
      }
     },
     "output_type": "display_data"
    }
   ],
   "source": [
    "# Variation:sex\n",
    "sex_count<-df%>%\n",
    "    group_by(sex)%>%\n",
    "        summarize(count=n())\n",
    "\n",
    "\n",
    "ggplot(data=sex_count, aes(x=\"\", y=count, fill=sex)) +\n",
    "  geom_bar(stat=\"identity\", width=1, color=\"white\") +\n",
    "      coord_polar(\"y\", start=0) + \n",
    "        theme_void()\n",
    "ggsave(\"sex.png\")            "
   ]
  },
  {
   "cell_type": "code",
   "execution_count": 55,
   "id": "edc2e38e-b7e8-4fde-9165-c42034fd552c",
   "metadata": {},
   "outputs": [
    {
     "name": "stderr",
     "output_type": "stream",
     "text": [
      "\u001b[1m\u001b[22mSaving 6.67 x 6.67 in image\n"
     ]
    },
    {
     "data": {
      "image/png": "[encoded data removed]",
      "text/plain": [
       "plot without title"
      ]
     },
     "metadata": {
      "image/png": {
       "height": 612.5,
       "width": 612.5
      }
     },
     "output_type": "display_data"
    }
   ],
   "source": [
    "# Variation:cp\n",
    "ggplot(data=df)+\n",
    "    geom_bar(mapping=aes(x=cp,fill=cp),width=0.5)+\n",
    "                labs(fill = \"Chest pain type\")+\n",
    "                     scale_fill_discrete(labels=c(\"typical angina\",\"atypical angina\",\"non-anginal pain\",\" asymptomatic\"))\n",
    "ggsave(\"cp.png\")"
   ]
  },
  {
   "cell_type": "code",
   "execution_count": 56,
   "id": "d62f55db-f44b-4cf3-a775-3808d80f5ad8",
   "metadata": {},
   "outputs": [
    {
     "name": "stderr",
     "output_type": "stream",
     "text": [
      "\u001b[1m\u001b[22mSaving 6.67 x 6.67 in image\n"
     ]
    },
    {
     "data": {
      "image/png": "[encoded data removed]",
      "text/plain": [
       "plot without title"
      ]
     },
     "metadata": {
      "image/png": {
       "height": 612.5,
       "width": 612.5
      }
     },
     "output_type": "display_data"
    }
   ],
   "source": [
    "# Variation:fbs\n",
    "ggplot(data=df)+\n",
    "    geom_bar(mapping=aes(x=fbs,color=fbs),show.legend = TRUE,width=0.5)+\n",
    "            labs(color = \"Suger rate of fasting blood\")+\n",
    "                scale_color_discrete(labels=c(\"fbs<120mg/dl\",\"fbs>120mg/dl\"))\n",
    "ggsave(\"fbs.png\")"
   ]
  },
  {
   "cell_type": "code",
   "execution_count": 57,
   "id": "c7993825-fcf1-4998-b06c-92dd5af7c866",
   "metadata": {},
   "outputs": [
    {
     "name": "stderr",
     "output_type": "stream",
     "text": [
      "\u001b[1m\u001b[22mSaving 6.67 x 6.67 in image\n"
     ]
    },
    {
     "data": {
      "image/png": "[encoded data removed]",
      "text/plain": [
       "plot without title"
      ]
     },
     "metadata": {
      "image/png": {
       "height": 612.5,
       "width": 612.5
      }
     },
     "output_type": "display_data"
    }
   ],
   "source": [
    "# Variation:rstcg\n",
    "ggplot(data=df)+\n",
    "    geom_bar(mapping=aes(x=rstcg,fill=rstcg),width=0.5)+\n",
    "                labs(fill = \"Results of resting electrocardiographic\")+\n",
    "                    scale_fill_discrete(labels=c(\"normal\",\"having ST-T wave abnormality\",\"showing probable left ventricular hypertrophy\"))\n",
    "          \n",
    "\n",
    "ggsave(\"rstcg.png\")"
   ]
  },
  {
   "cell_type": "code",
   "execution_count": 58,
   "id": "b18aa780-516c-49a9-adc9-0945b1a190b5",
   "metadata": {},
   "outputs": [
    {
     "name": "stderr",
     "output_type": "stream",
     "text": [
      "\u001b[1m\u001b[22mSaving 6.67 x 6.67 in image\n"
     ]
    },
    {
     "data": {
      "image/png": "[encoded data removed]",
      "text/plain": [
       "plot without title"
      ]
     },
     "metadata": {
      "image/png": {
       "height": 612.5,
       "width": 612.5
      }
     },
     "output_type": "display_data"
    }
   ],
   "source": [
    "#exng: exercise induced angina\n",
    "ggplot(data=df)+\n",
    "    geom_bar(mapping=aes(x=exng,color=exng),show.legend = TRUE,width=0.5)+\n",
    "            labs(color = \"exercise induced angina\")+\n",
    "                scale_color_discrete(labels=c(\"NO\",\"YES\"))\n",
    "ggsave(\"exng.png\")"
   ]
  },
  {
   "cell_type": "code",
   "execution_count": 59,
   "id": "6a4882ec-a88d-4a3f-b698-e6d34df39e4d",
   "metadata": {},
   "outputs": [
    {
     "name": "stderr",
     "output_type": "stream",
     "text": [
      "\u001b[1m\u001b[22mSaving 6.67 x 6.67 in image\n"
     ]
    },
    {
     "data": {
      "image/png": "[encoded data removed]",
      "text/plain": [
       "plot without title"
      ]
     },
     "metadata": {
      "image/png": {
       "height": 612.5,
       "width": 612.5
      }
     },
     "output_type": "display_data"
    }
   ],
   "source": [
    "# Variation:slope\n",
    "ggplot(data=df)+\n",
    "    geom_bar(mapping=aes(x=slope,fill=slope),width=0.5)+\n",
    "                labs(fill = \"Peak exercise slope of the ST segment\")+\n",
    "                     scale_fill_discrete(labels=c(\"upsloping\",\"flat\",\"downsloping\"))\n",
    "ggsave(\"slope.png\")"
   ]
  },
  {
   "cell_type": "code",
   "execution_count": 60,
   "id": "1baa54e4-e53f-48e8-9e81-579468250f7d",
   "metadata": {},
   "outputs": [
    {
     "name": "stderr",
     "output_type": "stream",
     "text": [
      "\u001b[1m\u001b[22mSaving 6.67 x 6.67 in image\n"
     ]
    },
    {
     "data": {
      "image/png": "[encoded data removed]",
      "text/plain": [
       "plot without title"
      ]
     },
     "metadata": {
      "image/png": {
       "height": 612.5,
       "width": 612.5
      }
     },
     "output_type": "display_data"
    }
   ],
   "source": [
    "# Variation:ca(Major vessel count (0–3) colored by fluorescence)\n",
    "ca_count<-df%>%\n",
    "    group_by(ca)%>%\n",
    "        summarize(count=n())\n",
    "\n",
    "#lollipop chart\n",
    "ggplot(data=ca_count, aes(x=ca, y=count)) +\n",
    "  geom_segment( aes(x=ca, xend=ca, y=0, yend=count)) +\n",
    "      geom_point( size=5, color=\"red\", fill=alpha(\"orange\", 0.1), alpha=0.7, shape=21, stroke=2)\n",
    "ggsave(\"ca.png\")       "
   ]
  },
  {
   "cell_type": "code",
   "execution_count": 61,
   "id": "fc9ec47e-2abf-4d91-9b73-619c576726e8",
   "metadata": {},
   "outputs": [
    {
     "name": "stderr",
     "output_type": "stream",
     "text": [
      "\u001b[1m\u001b[22mSaving 6.67 x 6.67 in image\n"
     ]
    },
    {
     "data": {
      "image/png": "[encoded data removed]",
      "text/plain": [
       "plot without title"
      ]
     },
     "metadata": {
      "image/png": {
       "height": 612.5,
       "width": 612.5
      }
     },
     "output_type": "display_data"
    }
   ],
   "source": [
    "#Variation:Thalasimea Disease\n",
    "ggplot(data=df)+\n",
    "    geom_bar(mapping=aes(x=thal,fill=thal),width=0.5)+\n",
    "                labs(fill = \"Thalasimea Disease\")\n",
    "ggsave(\"thal.png\")"
   ]
  },
  {
   "cell_type": "markdown",
   "id": "c8e4ee01-f135-49a3-afa9-9bb0c7b518ac",
   "metadata": {},
   "source": [
    "##### Covariation:\n",
    "If variation describes the behavior within a variable, covariation\r\n",
    "describes the behavior between variables. Covariation is the tendency\r\n",
    "for the values of two or more variables to vary together in a\r\n",
    "related way."
   ]
  },
  {
   "cell_type": "code",
   "execution_count": 62,
   "id": "0203f244-ff6f-4256-af33-558423a77828",
   "metadata": {},
   "outputs": [
    {
     "name": "stderr",
     "output_type": "stream",
     "text": [
      "Warning message in ggcorr(df, method = c(\"pairwise\", \"pearson\"), label = TRUE):\n",
      "\"data in column(s) 'sex', 'cp', 'fbs', 'rstcg', 'exng', 'slope', 'ca', 'thal', 'Target' are not numeric and were ignored\"\n",
      "\u001b[1m\u001b[22mSaving 6.67 x 6.67 in image\n"
     ]
    },
    {
     "data": {
      "image/png": "[encoded data removed]",
      "text/plain": [
       "plot without title"
      ]
     },
     "metadata": {
      "image/png": {
       "height": 612.5,
       "width": 612.5
      }
     },
     "output_type": "display_data"
    }
   ],
   "source": [
    "#Correlation Matrix \n",
    "ggcorr(df,method = c(\"pairwise\", \"pearson\"),label=TRUE)\n",
    "ggsave(\"corr_matrix.png\")"
   ]
  },
  {
   "cell_type": "code",
   "execution_count": 66,
   "id": "e5253d06-49bf-4301-9ff5-ea20405c1618",
   "metadata": {},
   "outputs": [
    {
     "name": "stderr",
     "output_type": "stream",
     "text": [
      "\u001b[1m\u001b[22m`stat_bin()` using `bins = 30`. Pick better value with `binwidth`.\n",
      "\u001b[1m\u001b[22m`stat_bin()` using `bins = 30`. Pick better value with `binwidth`.\n",
      "\u001b[1m\u001b[22m`stat_bin()` using `bins = 30`. Pick better value with `binwidth`.\n",
      "\u001b[1m\u001b[22m`stat_bin()` using `bins = 30`. Pick better value with `binwidth`.\n",
      "\u001b[1m\u001b[22mSaving 6.67 x 6.67 in image\n",
      "\u001b[1m\u001b[22m`stat_bin()` using `bins = 30`. Pick better value with `binwidth`.\n",
      "\u001b[1m\u001b[22m`stat_bin()` using `bins = 30`. Pick better value with `binwidth`.\n",
      "\u001b[1m\u001b[22m`stat_bin()` using `bins = 30`. Pick better value with `binwidth`.\n",
      "\u001b[1m\u001b[22m`stat_bin()` using `bins = 30`. Pick better value with `binwidth`.\n"
     ]
    },
    {
     "data": {
      "image/png": "[encoded data removed]",
      "text/plain": [
       "plot without title"
      ]
     },
     "metadata": {
      "image/png": {
       "height": 612.5,
       "width": 612.5
      }
     },
     "output_type": "display_data"
    }
   ],
   "source": [
    "# ggpairs(data=df, columns = 1:4, upper = list(continuous = \"cor\", combo = \"box_no_facet\", discrete = \"count\"),\n",
    "#   lower = list(continuous = \"points\", combo = \"facethist\", discrete = \"facetbar\")) \n",
    "ggpairs(data=df, columns = 1:4, diag = list(continuous = \"densityDiag\", discrete = \"barDiag\", na = \"naDiag\") ) \n",
    "ggsave(\"scatter_mat_1.png\")"
   ]
  },
  {
   "cell_type": "code",
   "execution_count": 70,
   "id": "252ab16e-4748-46d7-9bfb-d7ea535322c3",
   "metadata": {},
   "outputs": [
    {
     "name": "stderr",
     "output_type": "stream",
     "text": [
      "\u001b[1m\u001b[22m`stat_bin()` using `bins = 30`. Pick better value with `binwidth`.\n",
      "\u001b[1m\u001b[22m`stat_bin()` using `bins = 30`. Pick better value with `binwidth`.\n",
      "\u001b[1m\u001b[22m`stat_bin()` using `bins = 30`. Pick better value with `binwidth`.\n",
      "\u001b[1m\u001b[22m`stat_bin()` using `bins = 30`. Pick better value with `binwidth`.\n",
      "\u001b[1m\u001b[22m`stat_bin()` using `bins = 30`. Pick better value with `binwidth`.\n",
      "\u001b[1m\u001b[22m`stat_bin()` using `bins = 30`. Pick better value with `binwidth`.\n",
      "\u001b[1m\u001b[22mSaving 6.67 x 6.67 in image\n",
      "\u001b[1m\u001b[22m`stat_bin()` using `bins = 30`. Pick better value with `binwidth`.\n",
      "\u001b[1m\u001b[22m`stat_bin()` using `bins = 30`. Pick better value with `binwidth`.\n",
      "\u001b[1m\u001b[22m`stat_bin()` using `bins = 30`. Pick better value with `binwidth`.\n",
      "\u001b[1m\u001b[22m`stat_bin()` using `bins = 30`. Pick better value with `binwidth`.\n",
      "\u001b[1m\u001b[22m`stat_bin()` using `bins = 30`. Pick better value with `binwidth`.\n",
      "\u001b[1m\u001b[22m`stat_bin()` using `bins = 30`. Pick better value with `binwidth`.\n"
     ]
    },
    {
     "data": {
      "image/png": "[encoded data removed]",
      "text/plain": [
       "plot without title"
      ]
     },
     "metadata": {
      "image/png": {
       "height": 612.5,
       "width": 612.5
      }
     },
     "output_type": "display_data"
    }
   ],
   "source": [
    "ggpairs(data=df, columns = 5:9, diag = list(continuous = \"densityDiag\", discrete = \"barDiag\", na = \"naDiag\") ) \n",
    "ggsave(\"scatter_mat_2.png\")"
   ]
  },
  {
   "cell_type": "code",
   "execution_count": 68,
   "id": "7a895048-ff7a-4202-9cd1-47ec7184fdfe",
   "metadata": {},
   "outputs": [
    {
     "name": "stderr",
     "output_type": "stream",
     "text": [
      "\u001b[1m\u001b[22m`stat_bin()` using `bins = 30`. Pick better value with `binwidth`.\n",
      "\u001b[1m\u001b[22m`stat_bin()` using `bins = 30`. Pick better value with `binwidth`.\n",
      "\u001b[1m\u001b[22m`stat_bin()` using `bins = 30`. Pick better value with `binwidth`.\n",
      "\u001b[1m\u001b[22m`stat_bin()` using `bins = 30`. Pick better value with `binwidth`.\n",
      "\u001b[1m\u001b[22mSaving 6.67 x 6.67 in image\n",
      "\u001b[1m\u001b[22m`stat_bin()` using `bins = 30`. Pick better value with `binwidth`.\n",
      "\u001b[1m\u001b[22m`stat_bin()` using `bins = 30`. Pick better value with `binwidth`.\n",
      "\u001b[1m\u001b[22m`stat_bin()` using `bins = 30`. Pick better value with `binwidth`.\n",
      "\u001b[1m\u001b[22m`stat_bin()` using `bins = 30`. Pick better value with `binwidth`.\n"
     ]
    },
    {
     "data": {
      "image/png": "[encoded data removed]",
      "text/plain": [
       "plot without title"
      ]
     },
     "metadata": {
      "image/png": {
       "height": 612.5,
       "width": 612.5
      }
     },
     "output_type": "display_data"
    }
   ],
   "source": [
    "ggpairs(data=df, columns = 10:14, diag = list(continuous = \"densityDiag\", discrete = \"barDiag\", na = \"naDiag\") ) \n",
    "ggsave(\"scatter_mat_3.png\")"
   ]
  },
  {
   "cell_type": "code",
   "execution_count": 80,
   "id": "33ac81e3-7887-403a-b786-925fea1432eb",
   "metadata": {},
   "outputs": [
    {
     "name": "stderr",
     "output_type": "stream",
     "text": [
      "\u001b[1m\u001b[22mSaving 6.67 x 6.67 in image\n"
     ]
    },
    {
     "data": {
      "image/png": "[encoded data removed]",
      "text/plain": [
       "plot without title"
      ]
     },
     "metadata": {
      "image/png": {
       "height": 612.5,
       "width": 612.5
      }
     },
     "output_type": "display_data"
    }
   ],
   "source": [
    "#Discover the relation between sex and target \n",
    "ggplot(data = df)+ \n",
    "    geom_bar( mapping = aes(x=Target,fill = sex), position = \"dodge\",width = 0.4)\n",
    "ggsave(\"sex_target.png\")"
   ]
  },
  {
   "cell_type": "code",
   "execution_count": 81,
   "id": "9f4a7267-fd9e-44a8-8531-646112402901",
   "metadata": {},
   "outputs": [
    {
     "name": "stderr",
     "output_type": "stream",
     "text": [
      "\u001b[1m\u001b[22mSaving 6.67 x 6.67 in image\n"
     ]
    },
    {
     "data": {
      "image/png": "[encoded data removed]",
      "text/plain": [
       "plot without title"
      ]
     },
     "metadata": {
      "image/png": {
       "height": 612.5,
       "width": 612.5
      }
     },
     "output_type": "display_data"
    }
   ],
   "source": [
    "##Discover the relation between tbp and chol by respect to cp\n",
    "ggplot(data = df)+\n",
    "    geom_point(mapping = aes(x=chol,y=tbp))+\n",
    "        facet_wrap(~cp)\n",
    "ggsave(\"tbp_chol_cp.png\")"
   ]
  },
  {
   "cell_type": "markdown",
   "id": "71a5809b-d21d-49c5-ae0b-425ce20fd32a",
   "metadata": {},
   "source": [
    "#### Basic Descrpitive Statistics:\n",
    "**-Measures of Central Tendency**\n",
    "\n",
    "**-Measures of Dispersion**"
   ]
  },
  {
   "cell_type": "markdown",
   "id": "d9d4d3c3-20a3-4ebe-9c53-f82ef496be2e",
   "metadata": {},
   "source": [
    "#### Measures of Central Tendency: Mean,Median, Quantiles, Min, Max, Frequencies\n"
   ]
  },
  {
   "cell_type": "code",
   "execution_count": 35,
   "id": "35e77bcf-a8da-4d96-900c-a73b8757c703",
   "metadata": {
    "scrolled": true
   },
   "outputs": [
    {
     "data": {
      "text/plain": [
       "$age\n",
       "   Min. 1st Qu.  Median    Mean 3rd Qu.    Max. \n",
       "  29.00   48.00   56.00   54.44   61.00   77.00 \n",
       "\n",
       "$sex\n",
       "  0   1 \n",
       " 97 206 \n",
       "\n",
       "$cp\n",
       "  1   2   3   4 \n",
       " 23  50  86 144 \n",
       "\n",
       "$tbp\n",
       "   Min. 1st Qu.  Median    Mean 3rd Qu.    Max. \n",
       "   94.0   120.0   130.0   131.7   140.0   200.0 \n",
       "\n",
       "$chol\n",
       "   Min. 1st Qu.  Median    Mean 3rd Qu.    Max. \n",
       "  126.0   211.0   241.0   246.7   275.0   564.0 \n",
       "\n",
       "$fbs\n",
       "  0   1 \n",
       "258  45 \n",
       "\n",
       "$rstcg\n",
       "  0   1   2 \n",
       "151   4 148 \n",
       "\n",
       "$thlch\n",
       "   Min. 1st Qu.  Median    Mean 3rd Qu.    Max. \n",
       "   71.0   133.5   153.0   149.6   166.0   202.0 \n",
       "\n",
       "$exng\n",
       "  0   1 \n",
       "204  99 \n",
       "\n",
       "$opeak\n",
       "   Min. 1st Qu.  Median    Mean 3rd Qu.    Max. \n",
       "   0.00    0.00    0.80    1.04    1.60    6.20 \n",
       "\n",
       "$slope\n",
       "  1   2   3 \n",
       "142 140  21 \n",
       "\n",
       "$ca\n",
       "  0   1   2   3 \n",
       "180  65  38  20 \n",
       "\n",
       "$thal\n",
       "  0   1   2 \n",
       "168  18 117 \n",
       "\n",
       "$Target\n",
       "  0   1 \n",
       "164 139 \n"
      ]
     },
     "metadata": {},
     "output_type": "display_data"
    }
   ],
   "source": [
    "#Applying summary() function which finds:\n",
    "#Min,1st Quartile, Median, Mean, 3rd Quartile, Max --> For Numerical Attributes\n",
    "# Absolute Frequencies --> For Categorical Variable\n",
    "df%>%\n",
    "    lapply(summary)"
   ]
  },
  {
   "cell_type": "code",
   "execution_count": 36,
   "id": "9d718b99-de84-4e6a-81c8-b1d65105a9da",
   "metadata": {},
   "outputs": [
    {
     "data": {
      "text/html": [
       "<dl>\n",
       "\t<dt>$age</dt>\n",
       "\t\t<dd>58</dd>\n",
       "\t<dt>$sex</dt>\n",
       "\t\t<dd>1\n",
       "<details>\n",
       "\t<summary style=display:list-item;cursor:pointer>\n",
       "\t\t<strong>Levels</strong>:\n",
       "\t</summary>\n",
       "\t<style>\n",
       "\t.list-inline {list-style: none; margin:0; padding: 0}\n",
       "\t.list-inline>li {display: inline-block}\n",
       "\t.list-inline>li:not(:last-child)::after {content: \"\\00b7\"; padding: 0 .5ex}\n",
       "\t</style>\n",
       "\t<ol class=list-inline><li>'0'</li><li>'1'</li></ol>\n",
       "</details></dd>\n",
       "\t<dt>$cp</dt>\n",
       "\t\t<dd>4\n",
       "<details>\n",
       "\t<summary style=display:list-item;cursor:pointer>\n",
       "\t\t<strong>Levels</strong>:\n",
       "\t</summary>\n",
       "\t<style>\n",
       "\t.list-inline {list-style: none; margin:0; padding: 0}\n",
       "\t.list-inline>li {display: inline-block}\n",
       "\t.list-inline>li:not(:last-child)::after {content: \"\\00b7\"; padding: 0 .5ex}\n",
       "\t</style>\n",
       "\t<ol class=list-inline><li>'1'</li><li>'2'</li><li>'3'</li><li>'4'</li></ol>\n",
       "</details></dd>\n",
       "\t<dt>$tbp</dt>\n",
       "\t\t<dd>120</dd>\n",
       "\t<dt>$chol</dt>\n",
       "\t\t<dd>204</dd>\n",
       "\t<dt>$fbs</dt>\n",
       "\t\t<dd>0\n",
       "<details>\n",
       "\t<summary style=display:list-item;cursor:pointer>\n",
       "\t\t<strong>Levels</strong>:\n",
       "\t</summary>\n",
       "\t<style>\n",
       "\t.list-inline {list-style: none; margin:0; padding: 0}\n",
       "\t.list-inline>li {display: inline-block}\n",
       "\t.list-inline>li:not(:last-child)::after {content: \"\\00b7\"; padding: 0 .5ex}\n",
       "\t</style>\n",
       "\t<ol class=list-inline><li>'0'</li><li>'1'</li></ol>\n",
       "</details></dd>\n",
       "\t<dt>$rstcg</dt>\n",
       "\t\t<dd>0\n",
       "<details>\n",
       "\t<summary style=display:list-item;cursor:pointer>\n",
       "\t\t<strong>Levels</strong>:\n",
       "\t</summary>\n",
       "\t<style>\n",
       "\t.list-inline {list-style: none; margin:0; padding: 0}\n",
       "\t.list-inline>li {display: inline-block}\n",
       "\t.list-inline>li:not(:last-child)::after {content: \"\\00b7\"; padding: 0 .5ex}\n",
       "\t</style>\n",
       "\t<ol class=list-inline><li>'0'</li><li>'1'</li><li>'2'</li></ol>\n",
       "</details></dd>\n",
       "\t<dt>$thlch</dt>\n",
       "\t\t<dd>162</dd>\n",
       "\t<dt>$exng</dt>\n",
       "\t\t<dd>0\n",
       "<details>\n",
       "\t<summary style=display:list-item;cursor:pointer>\n",
       "\t\t<strong>Levels</strong>:\n",
       "\t</summary>\n",
       "\t<style>\n",
       "\t.list-inline {list-style: none; margin:0; padding: 0}\n",
       "\t.list-inline>li {display: inline-block}\n",
       "\t.list-inline>li:not(:last-child)::after {content: \"\\00b7\"; padding: 0 .5ex}\n",
       "\t</style>\n",
       "\t<ol class=list-inline><li>'0'</li><li>'1'</li></ol>\n",
       "</details></dd>\n",
       "\t<dt>$opeak</dt>\n",
       "\t\t<dd>0</dd>\n",
       "\t<dt>$slope</dt>\n",
       "\t\t<dd>1\n",
       "<details>\n",
       "\t<summary style=display:list-item;cursor:pointer>\n",
       "\t\t<strong>Levels</strong>:\n",
       "\t</summary>\n",
       "\t<style>\n",
       "\t.list-inline {list-style: none; margin:0; padding: 0}\n",
       "\t.list-inline>li {display: inline-block}\n",
       "\t.list-inline>li:not(:last-child)::after {content: \"\\00b7\"; padding: 0 .5ex}\n",
       "\t</style>\n",
       "\t<ol class=list-inline><li>'1'</li><li>'2'</li><li>'3'</li></ol>\n",
       "</details></dd>\n",
       "\t<dt>$ca</dt>\n",
       "\t\t<dd>0\n",
       "<details>\n",
       "\t<summary style=display:list-item;cursor:pointer>\n",
       "\t\t<strong>Levels</strong>:\n",
       "\t</summary>\n",
       "\t<style>\n",
       "\t.list-inline {list-style: none; margin:0; padding: 0}\n",
       "\t.list-inline>li {display: inline-block}\n",
       "\t.list-inline>li:not(:last-child)::after {content: \"\\00b7\"; padding: 0 .5ex}\n",
       "\t</style>\n",
       "\t<ol class=list-inline><li>'0'</li><li>'1'</li><li>'2'</li><li>'3'</li></ol>\n",
       "</details></dd>\n",
       "\t<dt>$thal</dt>\n",
       "\t\t<dd>0\n",
       "<details>\n",
       "\t<summary style=display:list-item;cursor:pointer>\n",
       "\t\t<strong>Levels</strong>:\n",
       "\t</summary>\n",
       "\t<style>\n",
       "\t.list-inline {list-style: none; margin:0; padding: 0}\n",
       "\t.list-inline>li {display: inline-block}\n",
       "\t.list-inline>li:not(:last-child)::after {content: \"\\00b7\"; padding: 0 .5ex}\n",
       "\t</style>\n",
       "\t<ol class=list-inline><li>'0'</li><li>'1'</li><li>'2'</li></ol>\n",
       "</details></dd>\n",
       "\t<dt>$Target</dt>\n",
       "\t\t<dd>0\n",
       "<details>\n",
       "\t<summary style=display:list-item;cursor:pointer>\n",
       "\t\t<strong>Levels</strong>:\n",
       "\t</summary>\n",
       "\t<style>\n",
       "\t.list-inline {list-style: none; margin:0; padding: 0}\n",
       "\t.list-inline>li {display: inline-block}\n",
       "\t.list-inline>li:not(:last-child)::after {content: \"\\00b7\"; padding: 0 .5ex}\n",
       "\t</style>\n",
       "\t<ol class=list-inline><li>'0'</li><li>'1'</li></ol>\n",
       "</details></dd>\n",
       "</dl>\n"
      ],
      "text/latex": [
       "\\begin{description}\n",
       "\\item[\\$age] 58\n",
       "\\item[\\$sex] 1\n",
       "\\emph{Levels}: \\begin{enumerate*}\n",
       "\\item '0'\n",
       "\\item '1'\n",
       "\\end{enumerate*}\n",
       "\n",
       "\\item[\\$cp] 4\n",
       "\\emph{Levels}: \\begin{enumerate*}\n",
       "\\item '1'\n",
       "\\item '2'\n",
       "\\item '3'\n",
       "\\item '4'\n",
       "\\end{enumerate*}\n",
       "\n",
       "\\item[\\$tbp] 120\n",
       "\\item[\\$chol] 204\n",
       "\\item[\\$fbs] 0\n",
       "\\emph{Levels}: \\begin{enumerate*}\n",
       "\\item '0'\n",
       "\\item '1'\n",
       "\\end{enumerate*}\n",
       "\n",
       "\\item[\\$rstcg] 0\n",
       "\\emph{Levels}: \\begin{enumerate*}\n",
       "\\item '0'\n",
       "\\item '1'\n",
       "\\item '2'\n",
       "\\end{enumerate*}\n",
       "\n",
       "\\item[\\$thlch] 162\n",
       "\\item[\\$exng] 0\n",
       "\\emph{Levels}: \\begin{enumerate*}\n",
       "\\item '0'\n",
       "\\item '1'\n",
       "\\end{enumerate*}\n",
       "\n",
       "\\item[\\$opeak] 0\n",
       "\\item[\\$slope] 1\n",
       "\\emph{Levels}: \\begin{enumerate*}\n",
       "\\item '1'\n",
       "\\item '2'\n",
       "\\item '3'\n",
       "\\end{enumerate*}\n",
       "\n",
       "\\item[\\$ca] 0\n",
       "\\emph{Levels}: \\begin{enumerate*}\n",
       "\\item '0'\n",
       "\\item '1'\n",
       "\\item '2'\n",
       "\\item '3'\n",
       "\\end{enumerate*}\n",
       "\n",
       "\\item[\\$thal] 0\n",
       "\\emph{Levels}: \\begin{enumerate*}\n",
       "\\item '0'\n",
       "\\item '1'\n",
       "\\item '2'\n",
       "\\end{enumerate*}\n",
       "\n",
       "\\item[\\$Target] 0\n",
       "\\emph{Levels}: \\begin{enumerate*}\n",
       "\\item '0'\n",
       "\\item '1'\n",
       "\\end{enumerate*}\n",
       "\n",
       "\\end{description}\n"
      ],
      "text/markdown": [
       "$age\n",
       ":   58\n",
       "$sex\n",
       ":   1\n",
       "**Levels**: 1. '0'\n",
       "2. '1'\n",
       "\n",
       "\n",
       "\n",
       "$cp\n",
       ":   4\n",
       "**Levels**: 1. '1'\n",
       "2. '2'\n",
       "3. '3'\n",
       "4. '4'\n",
       "\n",
       "\n",
       "\n",
       "$tbp\n",
       ":   120\n",
       "$chol\n",
       ":   204\n",
       "$fbs\n",
       ":   0\n",
       "**Levels**: 1. '0'\n",
       "2. '1'\n",
       "\n",
       "\n",
       "\n",
       "$rstcg\n",
       ":   0\n",
       "**Levels**: 1. '0'\n",
       "2. '1'\n",
       "3. '2'\n",
       "\n",
       "\n",
       "\n",
       "$thlch\n",
       ":   162\n",
       "$exng\n",
       ":   0\n",
       "**Levels**: 1. '0'\n",
       "2. '1'\n",
       "\n",
       "\n",
       "\n",
       "$opeak\n",
       ":   0\n",
       "$slope\n",
       ":   1\n",
       "**Levels**: 1. '1'\n",
       "2. '2'\n",
       "3. '3'\n",
       "\n",
       "\n",
       "\n",
       "$ca\n",
       ":   0\n",
       "**Levels**: 1. '0'\n",
       "2. '1'\n",
       "3. '2'\n",
       "4. '3'\n",
       "\n",
       "\n",
       "\n",
       "$thal\n",
       ":   0\n",
       "**Levels**: 1. '0'\n",
       "2. '1'\n",
       "3. '2'\n",
       "\n",
       "\n",
       "\n",
       "$Target\n",
       ":   0\n",
       "**Levels**: 1. '0'\n",
       "2. '1'\n",
       "\n",
       "\n",
       "\n",
       "\n",
       "\n"
      ],
      "text/plain": [
       "$age\n",
       "[1] 58\n",
       "\n",
       "$sex\n",
       "[1] 1\n",
       "Levels: 0 1\n",
       "\n",
       "$cp\n",
       "[1] 4\n",
       "Levels: 1 2 3 4\n",
       "\n",
       "$tbp\n",
       "[1] 120\n",
       "\n",
       "$chol\n",
       "[1] 204\n",
       "\n",
       "$fbs\n",
       "[1] 0\n",
       "Levels: 0 1\n",
       "\n",
       "$rstcg\n",
       "[1] 0\n",
       "Levels: 0 1 2\n",
       "\n",
       "$thlch\n",
       "[1] 162\n",
       "\n",
       "$exng\n",
       "[1] 0\n",
       "Levels: 0 1\n",
       "\n",
       "$opeak\n",
       "[1] 0\n",
       "\n",
       "$slope\n",
       "[1] 1\n",
       "Levels: 1 2 3\n",
       "\n",
       "$ca\n",
       "[1] 0\n",
       "Levels: 0 1 2 3\n",
       "\n",
       "$thal\n",
       "[1] 0\n",
       "Levels: 0 1 2\n",
       "\n",
       "$Target\n",
       "[1] 0\n",
       "Levels: 0 1\n"
      ]
     },
     "metadata": {},
     "output_type": "display_data"
    }
   ],
   "source": [
    "# mode() function to find the mode value\n",
    "mode <- function(x) {\n",
    "  unique_x <- unique(x)\n",
    "  unique_x[which.max(tabulate(match(x, unique_x)))]\n",
    "}\n",
    "df%>%\n",
    "    lapply(mode)"
   ]
  },
  {
   "cell_type": "markdown",
   "id": "bff4ce90-bde7-4966-b4a3-065760fa0bad",
   "metadata": {},
   "source": [
    "#### Measures of Dispersion: Range, IQR, Variance, SD, "
   ]
  },
  {
   "cell_type": "code",
   "execution_count": 37,
   "id": "83ab504b-6c9f-483d-a13c-8452a2d466b7",
   "metadata": {},
   "outputs": [
    {
     "data": {
      "text/html": [
       "<table class=\"dataframe\">\n",
       "<caption>A data.frame: 303 × 5</caption>\n",
       "<thead>\n",
       "\t<tr><th scope=col>age</th><th scope=col>tbp</th><th scope=col>chol</th><th scope=col>thlch</th><th scope=col>opeak</th></tr>\n",
       "\t<tr><th scope=col>&lt;int&gt;</th><th scope=col>&lt;int&gt;</th><th scope=col>&lt;int&gt;</th><th scope=col>&lt;int&gt;</th><th scope=col>&lt;dbl&gt;</th></tr>\n",
       "</thead>\n",
       "<tbody>\n",
       "\t<tr><td>63</td><td>145</td><td>233</td><td>150</td><td>2.3</td></tr>\n",
       "\t<tr><td>67</td><td>160</td><td>286</td><td>108</td><td>1.5</td></tr>\n",
       "\t<tr><td>67</td><td>120</td><td>229</td><td>129</td><td>2.6</td></tr>\n",
       "\t<tr><td>37</td><td>130</td><td>250</td><td>187</td><td>3.5</td></tr>\n",
       "\t<tr><td>41</td><td>130</td><td>204</td><td>172</td><td>1.4</td></tr>\n",
       "\t<tr><td>56</td><td>120</td><td>236</td><td>178</td><td>0.8</td></tr>\n",
       "\t<tr><td>62</td><td>140</td><td>268</td><td>160</td><td>3.6</td></tr>\n",
       "\t<tr><td>57</td><td>120</td><td>354</td><td>163</td><td>0.6</td></tr>\n",
       "\t<tr><td>63</td><td>130</td><td>254</td><td>147</td><td>1.4</td></tr>\n",
       "\t<tr><td>53</td><td>140</td><td>203</td><td>155</td><td>3.1</td></tr>\n",
       "\t<tr><td>57</td><td>140</td><td>192</td><td>148</td><td>0.4</td></tr>\n",
       "\t<tr><td>56</td><td>140</td><td>294</td><td>153</td><td>1.3</td></tr>\n",
       "\t<tr><td>56</td><td>130</td><td>256</td><td>142</td><td>0.6</td></tr>\n",
       "\t<tr><td>44</td><td>120</td><td>263</td><td>173</td><td>0.0</td></tr>\n",
       "\t<tr><td>52</td><td>172</td><td>199</td><td>162</td><td>0.5</td></tr>\n",
       "\t<tr><td>57</td><td>150</td><td>168</td><td>174</td><td>1.6</td></tr>\n",
       "\t<tr><td>48</td><td>110</td><td>229</td><td>168</td><td>1.0</td></tr>\n",
       "\t<tr><td>54</td><td>140</td><td>239</td><td>160</td><td>1.2</td></tr>\n",
       "\t<tr><td>48</td><td>130</td><td>275</td><td>139</td><td>0.2</td></tr>\n",
       "\t<tr><td>49</td><td>130</td><td>266</td><td>171</td><td>0.6</td></tr>\n",
       "\t<tr><td>64</td><td>110</td><td>211</td><td>144</td><td>1.8</td></tr>\n",
       "\t<tr><td>58</td><td>150</td><td>283</td><td>162</td><td>1.0</td></tr>\n",
       "\t<tr><td>58</td><td>120</td><td>284</td><td>160</td><td>1.8</td></tr>\n",
       "\t<tr><td>58</td><td>132</td><td>224</td><td>173</td><td>3.2</td></tr>\n",
       "\t<tr><td>60</td><td>130</td><td>206</td><td>132</td><td>2.4</td></tr>\n",
       "\t<tr><td>50</td><td>120</td><td>219</td><td>158</td><td>1.6</td></tr>\n",
       "\t<tr><td>58</td><td>120</td><td>340</td><td>172</td><td>0.0</td></tr>\n",
       "\t<tr><td>66</td><td>150</td><td>226</td><td>114</td><td>2.6</td></tr>\n",
       "\t<tr><td>43</td><td>150</td><td>247</td><td>171</td><td>1.5</td></tr>\n",
       "\t<tr><td>40</td><td>110</td><td>167</td><td>114</td><td>2.0</td></tr>\n",
       "\t<tr><td>⋮</td><td>⋮</td><td>⋮</td><td>⋮</td><td>⋮</td></tr>\n",
       "\t<tr><td>71</td><td>112</td><td>149</td><td>125</td><td>1.6</td></tr>\n",
       "\t<tr><td>59</td><td>134</td><td>204</td><td>162</td><td>0.8</td></tr>\n",
       "\t<tr><td>64</td><td>170</td><td>227</td><td>155</td><td>0.6</td></tr>\n",
       "\t<tr><td>66</td><td>146</td><td>278</td><td>152</td><td>0.0</td></tr>\n",
       "\t<tr><td>39</td><td>138</td><td>220</td><td>152</td><td>0.0</td></tr>\n",
       "\t<tr><td>57</td><td>154</td><td>232</td><td>164</td><td>0.0</td></tr>\n",
       "\t<tr><td>58</td><td>130</td><td>197</td><td>131</td><td>0.6</td></tr>\n",
       "\t<tr><td>57</td><td>110</td><td>335</td><td>143</td><td>3.0</td></tr>\n",
       "\t<tr><td>47</td><td>130</td><td>253</td><td>179</td><td>0.0</td></tr>\n",
       "\t<tr><td>55</td><td>128</td><td>205</td><td>130</td><td>2.0</td></tr>\n",
       "\t<tr><td>35</td><td>122</td><td>192</td><td>174</td><td>0.0</td></tr>\n",
       "\t<tr><td>61</td><td>148</td><td>203</td><td>161</td><td>0.0</td></tr>\n",
       "\t<tr><td>58</td><td>114</td><td>318</td><td>140</td><td>4.4</td></tr>\n",
       "\t<tr><td>58</td><td>170</td><td>225</td><td>146</td><td>2.8</td></tr>\n",
       "\t<tr><td>58</td><td>125</td><td>220</td><td>144</td><td>0.4</td></tr>\n",
       "\t<tr><td>56</td><td>130</td><td>221</td><td>163</td><td>0.0</td></tr>\n",
       "\t<tr><td>56</td><td>120</td><td>240</td><td>169</td><td>0.0</td></tr>\n",
       "\t<tr><td>67</td><td>152</td><td>212</td><td>150</td><td>0.8</td></tr>\n",
       "\t<tr><td>55</td><td>132</td><td>342</td><td>166</td><td>1.2</td></tr>\n",
       "\t<tr><td>44</td><td>120</td><td>169</td><td>144</td><td>2.8</td></tr>\n",
       "\t<tr><td>63</td><td>140</td><td>187</td><td>144</td><td>4.0</td></tr>\n",
       "\t<tr><td>63</td><td>124</td><td>197</td><td>136</td><td>0.0</td></tr>\n",
       "\t<tr><td>41</td><td>120</td><td>157</td><td>182</td><td>0.0</td></tr>\n",
       "\t<tr><td>59</td><td>164</td><td>176</td><td> 90</td><td>1.0</td></tr>\n",
       "\t<tr><td>57</td><td>140</td><td>241</td><td>123</td><td>0.2</td></tr>\n",
       "\t<tr><td>45</td><td>110</td><td>264</td><td>132</td><td>1.2</td></tr>\n",
       "\t<tr><td>68</td><td>144</td><td>193</td><td>141</td><td>3.4</td></tr>\n",
       "\t<tr><td>57</td><td>130</td><td>131</td><td>115</td><td>1.2</td></tr>\n",
       "\t<tr><td>57</td><td>130</td><td>236</td><td>174</td><td>0.0</td></tr>\n",
       "\t<tr><td>38</td><td>138</td><td>175</td><td>173</td><td>0.0</td></tr>\n",
       "</tbody>\n",
       "</table>\n"
      ],
      "text/latex": [
       "A data.frame: 303 × 5\n",
       "\\begin{tabular}{lllll}\n",
       " age & tbp & chol & thlch & opeak\\\\\n",
       " <int> & <int> & <int> & <int> & <dbl>\\\\\n",
       "\\hline\n",
       "\t 63 & 145 & 233 & 150 & 2.3\\\\\n",
       "\t 67 & 160 & 286 & 108 & 1.5\\\\\n",
       "\t 67 & 120 & 229 & 129 & 2.6\\\\\n",
       "\t 37 & 130 & 250 & 187 & 3.5\\\\\n",
       "\t 41 & 130 & 204 & 172 & 1.4\\\\\n",
       "\t 56 & 120 & 236 & 178 & 0.8\\\\\n",
       "\t 62 & 140 & 268 & 160 & 3.6\\\\\n",
       "\t 57 & 120 & 354 & 163 & 0.6\\\\\n",
       "\t 63 & 130 & 254 & 147 & 1.4\\\\\n",
       "\t 53 & 140 & 203 & 155 & 3.1\\\\\n",
       "\t 57 & 140 & 192 & 148 & 0.4\\\\\n",
       "\t 56 & 140 & 294 & 153 & 1.3\\\\\n",
       "\t 56 & 130 & 256 & 142 & 0.6\\\\\n",
       "\t 44 & 120 & 263 & 173 & 0.0\\\\\n",
       "\t 52 & 172 & 199 & 162 & 0.5\\\\\n",
       "\t 57 & 150 & 168 & 174 & 1.6\\\\\n",
       "\t 48 & 110 & 229 & 168 & 1.0\\\\\n",
       "\t 54 & 140 & 239 & 160 & 1.2\\\\\n",
       "\t 48 & 130 & 275 & 139 & 0.2\\\\\n",
       "\t 49 & 130 & 266 & 171 & 0.6\\\\\n",
       "\t 64 & 110 & 211 & 144 & 1.8\\\\\n",
       "\t 58 & 150 & 283 & 162 & 1.0\\\\\n",
       "\t 58 & 120 & 284 & 160 & 1.8\\\\\n",
       "\t 58 & 132 & 224 & 173 & 3.2\\\\\n",
       "\t 60 & 130 & 206 & 132 & 2.4\\\\\n",
       "\t 50 & 120 & 219 & 158 & 1.6\\\\\n",
       "\t 58 & 120 & 340 & 172 & 0.0\\\\\n",
       "\t 66 & 150 & 226 & 114 & 2.6\\\\\n",
       "\t 43 & 150 & 247 & 171 & 1.5\\\\\n",
       "\t 40 & 110 & 167 & 114 & 2.0\\\\\n",
       "\t ⋮ & ⋮ & ⋮ & ⋮ & ⋮\\\\\n",
       "\t 71 & 112 & 149 & 125 & 1.6\\\\\n",
       "\t 59 & 134 & 204 & 162 & 0.8\\\\\n",
       "\t 64 & 170 & 227 & 155 & 0.6\\\\\n",
       "\t 66 & 146 & 278 & 152 & 0.0\\\\\n",
       "\t 39 & 138 & 220 & 152 & 0.0\\\\\n",
       "\t 57 & 154 & 232 & 164 & 0.0\\\\\n",
       "\t 58 & 130 & 197 & 131 & 0.6\\\\\n",
       "\t 57 & 110 & 335 & 143 & 3.0\\\\\n",
       "\t 47 & 130 & 253 & 179 & 0.0\\\\\n",
       "\t 55 & 128 & 205 & 130 & 2.0\\\\\n",
       "\t 35 & 122 & 192 & 174 & 0.0\\\\\n",
       "\t 61 & 148 & 203 & 161 & 0.0\\\\\n",
       "\t 58 & 114 & 318 & 140 & 4.4\\\\\n",
       "\t 58 & 170 & 225 & 146 & 2.8\\\\\n",
       "\t 58 & 125 & 220 & 144 & 0.4\\\\\n",
       "\t 56 & 130 & 221 & 163 & 0.0\\\\\n",
       "\t 56 & 120 & 240 & 169 & 0.0\\\\\n",
       "\t 67 & 152 & 212 & 150 & 0.8\\\\\n",
       "\t 55 & 132 & 342 & 166 & 1.2\\\\\n",
       "\t 44 & 120 & 169 & 144 & 2.8\\\\\n",
       "\t 63 & 140 & 187 & 144 & 4.0\\\\\n",
       "\t 63 & 124 & 197 & 136 & 0.0\\\\\n",
       "\t 41 & 120 & 157 & 182 & 0.0\\\\\n",
       "\t 59 & 164 & 176 &  90 & 1.0\\\\\n",
       "\t 57 & 140 & 241 & 123 & 0.2\\\\\n",
       "\t 45 & 110 & 264 & 132 & 1.2\\\\\n",
       "\t 68 & 144 & 193 & 141 & 3.4\\\\\n",
       "\t 57 & 130 & 131 & 115 & 1.2\\\\\n",
       "\t 57 & 130 & 236 & 174 & 0.0\\\\\n",
       "\t 38 & 138 & 175 & 173 & 0.0\\\\\n",
       "\\end{tabular}\n"
      ],
      "text/markdown": [
       "\n",
       "A data.frame: 303 × 5\n",
       "\n",
       "| age &lt;int&gt; | tbp &lt;int&gt; | chol &lt;int&gt; | thlch &lt;int&gt; | opeak &lt;dbl&gt; |\n",
       "|---|---|---|---|---|\n",
       "| 63 | 145 | 233 | 150 | 2.3 |\n",
       "| 67 | 160 | 286 | 108 | 1.5 |\n",
       "| 67 | 120 | 229 | 129 | 2.6 |\n",
       "| 37 | 130 | 250 | 187 | 3.5 |\n",
       "| 41 | 130 | 204 | 172 | 1.4 |\n",
       "| 56 | 120 | 236 | 178 | 0.8 |\n",
       "| 62 | 140 | 268 | 160 | 3.6 |\n",
       "| 57 | 120 | 354 | 163 | 0.6 |\n",
       "| 63 | 130 | 254 | 147 | 1.4 |\n",
       "| 53 | 140 | 203 | 155 | 3.1 |\n",
       "| 57 | 140 | 192 | 148 | 0.4 |\n",
       "| 56 | 140 | 294 | 153 | 1.3 |\n",
       "| 56 | 130 | 256 | 142 | 0.6 |\n",
       "| 44 | 120 | 263 | 173 | 0.0 |\n",
       "| 52 | 172 | 199 | 162 | 0.5 |\n",
       "| 57 | 150 | 168 | 174 | 1.6 |\n",
       "| 48 | 110 | 229 | 168 | 1.0 |\n",
       "| 54 | 140 | 239 | 160 | 1.2 |\n",
       "| 48 | 130 | 275 | 139 | 0.2 |\n",
       "| 49 | 130 | 266 | 171 | 0.6 |\n",
       "| 64 | 110 | 211 | 144 | 1.8 |\n",
       "| 58 | 150 | 283 | 162 | 1.0 |\n",
       "| 58 | 120 | 284 | 160 | 1.8 |\n",
       "| 58 | 132 | 224 | 173 | 3.2 |\n",
       "| 60 | 130 | 206 | 132 | 2.4 |\n",
       "| 50 | 120 | 219 | 158 | 1.6 |\n",
       "| 58 | 120 | 340 | 172 | 0.0 |\n",
       "| 66 | 150 | 226 | 114 | 2.6 |\n",
       "| 43 | 150 | 247 | 171 | 1.5 |\n",
       "| 40 | 110 | 167 | 114 | 2.0 |\n",
       "| ⋮ | ⋮ | ⋮ | ⋮ | ⋮ |\n",
       "| 71 | 112 | 149 | 125 | 1.6 |\n",
       "| 59 | 134 | 204 | 162 | 0.8 |\n",
       "| 64 | 170 | 227 | 155 | 0.6 |\n",
       "| 66 | 146 | 278 | 152 | 0.0 |\n",
       "| 39 | 138 | 220 | 152 | 0.0 |\n",
       "| 57 | 154 | 232 | 164 | 0.0 |\n",
       "| 58 | 130 | 197 | 131 | 0.6 |\n",
       "| 57 | 110 | 335 | 143 | 3.0 |\n",
       "| 47 | 130 | 253 | 179 | 0.0 |\n",
       "| 55 | 128 | 205 | 130 | 2.0 |\n",
       "| 35 | 122 | 192 | 174 | 0.0 |\n",
       "| 61 | 148 | 203 | 161 | 0.0 |\n",
       "| 58 | 114 | 318 | 140 | 4.4 |\n",
       "| 58 | 170 | 225 | 146 | 2.8 |\n",
       "| 58 | 125 | 220 | 144 | 0.4 |\n",
       "| 56 | 130 | 221 | 163 | 0.0 |\n",
       "| 56 | 120 | 240 | 169 | 0.0 |\n",
       "| 67 | 152 | 212 | 150 | 0.8 |\n",
       "| 55 | 132 | 342 | 166 | 1.2 |\n",
       "| 44 | 120 | 169 | 144 | 2.8 |\n",
       "| 63 | 140 | 187 | 144 | 4.0 |\n",
       "| 63 | 124 | 197 | 136 | 0.0 |\n",
       "| 41 | 120 | 157 | 182 | 0.0 |\n",
       "| 59 | 164 | 176 |  90 | 1.0 |\n",
       "| 57 | 140 | 241 | 123 | 0.2 |\n",
       "| 45 | 110 | 264 | 132 | 1.2 |\n",
       "| 68 | 144 | 193 | 141 | 3.4 |\n",
       "| 57 | 130 | 131 | 115 | 1.2 |\n",
       "| 57 | 130 | 236 | 174 | 0.0 |\n",
       "| 38 | 138 | 175 | 173 | 0.0 |\n",
       "\n"
      ],
      "text/plain": [
       "    age tbp chol thlch opeak\n",
       "1   63  145 233  150   2.3  \n",
       "2   67  160 286  108   1.5  \n",
       "3   67  120 229  129   2.6  \n",
       "4   37  130 250  187   3.5  \n",
       "5   41  130 204  172   1.4  \n",
       "6   56  120 236  178   0.8  \n",
       "7   62  140 268  160   3.6  \n",
       "8   57  120 354  163   0.6  \n",
       "9   63  130 254  147   1.4  \n",
       "10  53  140 203  155   3.1  \n",
       "11  57  140 192  148   0.4  \n",
       "12  56  140 294  153   1.3  \n",
       "13  56  130 256  142   0.6  \n",
       "14  44  120 263  173   0.0  \n",
       "15  52  172 199  162   0.5  \n",
       "16  57  150 168  174   1.6  \n",
       "17  48  110 229  168   1.0  \n",
       "18  54  140 239  160   1.2  \n",
       "19  48  130 275  139   0.2  \n",
       "20  49  130 266  171   0.6  \n",
       "21  64  110 211  144   1.8  \n",
       "22  58  150 283  162   1.0  \n",
       "23  58  120 284  160   1.8  \n",
       "24  58  132 224  173   3.2  \n",
       "25  60  130 206  132   2.4  \n",
       "26  50  120 219  158   1.6  \n",
       "27  58  120 340  172   0.0  \n",
       "28  66  150 226  114   2.6  \n",
       "29  43  150 247  171   1.5  \n",
       "30  40  110 167  114   2.0  \n",
       "⋮   ⋮   ⋮   ⋮    ⋮     ⋮    \n",
       "274 71  112 149  125   1.6  \n",
       "275 59  134 204  162   0.8  \n",
       "276 64  170 227  155   0.6  \n",
       "277 66  146 278  152   0.0  \n",
       "278 39  138 220  152   0.0  \n",
       "279 57  154 232  164   0.0  \n",
       "280 58  130 197  131   0.6  \n",
       "281 57  110 335  143   3.0  \n",
       "282 47  130 253  179   0.0  \n",
       "283 55  128 205  130   2.0  \n",
       "284 35  122 192  174   0.0  \n",
       "285 61  148 203  161   0.0  \n",
       "286 58  114 318  140   4.4  \n",
       "287 58  170 225  146   2.8  \n",
       "288 58  125 220  144   0.4  \n",
       "289 56  130 221  163   0.0  \n",
       "290 56  120 240  169   0.0  \n",
       "291 67  152 212  150   0.8  \n",
       "292 55  132 342  166   1.2  \n",
       "293 44  120 169  144   2.8  \n",
       "294 63  140 187  144   4.0  \n",
       "295 63  124 197  136   0.0  \n",
       "296 41  120 157  182   0.0  \n",
       "297 59  164 176   90   1.0  \n",
       "298 57  140 241  123   0.2  \n",
       "299 45  110 264  132   1.2  \n",
       "300 68  144 193  141   3.4  \n",
       "301 57  130 131  115   1.2  \n",
       "302 57  130 236  174   0.0  \n",
       "303 38  138 175  173   0.0  "
      ]
     },
     "metadata": {},
     "output_type": "display_data"
    }
   ],
   "source": [
    "# Selecting numerical Attributes in the dataset\n",
    "numeric_col<-df%>%\n",
    "    select(where(is.numeric))\n",
    "numeric_col\n"
   ]
  },
  {
   "cell_type": "code",
   "execution_count": 38,
   "id": "fd5a3519-8da6-4847-8a4f-56089402d3a6",
   "metadata": {},
   "outputs": [
    {
     "data": {
      "text/html": [
       "<dl>\n",
       "\t<dt>$age</dt>\n",
       "\t\t<dd><style>\n",
       ".list-inline {list-style: none; margin:0; padding: 0}\n",
       ".list-inline>li {display: inline-block}\n",
       ".list-inline>li:not(:last-child)::after {content: \"\\00b7\"; padding: 0 .5ex}\n",
       "</style>\n",
       "<ol class=list-inline><li>29</li><li>77</li></ol>\n",
       "</dd>\n",
       "\t<dt>$tbp</dt>\n",
       "\t\t<dd><style>\n",
       ".list-inline {list-style: none; margin:0; padding: 0}\n",
       ".list-inline>li {display: inline-block}\n",
       ".list-inline>li:not(:last-child)::after {content: \"\\00b7\"; padding: 0 .5ex}\n",
       "</style>\n",
       "<ol class=list-inline><li>94</li><li>200</li></ol>\n",
       "</dd>\n",
       "\t<dt>$chol</dt>\n",
       "\t\t<dd><style>\n",
       ".list-inline {list-style: none; margin:0; padding: 0}\n",
       ".list-inline>li {display: inline-block}\n",
       ".list-inline>li:not(:last-child)::after {content: \"\\00b7\"; padding: 0 .5ex}\n",
       "</style>\n",
       "<ol class=list-inline><li>126</li><li>564</li></ol>\n",
       "</dd>\n",
       "\t<dt>$thlch</dt>\n",
       "\t\t<dd><style>\n",
       ".list-inline {list-style: none; margin:0; padding: 0}\n",
       ".list-inline>li {display: inline-block}\n",
       ".list-inline>li:not(:last-child)::after {content: \"\\00b7\"; padding: 0 .5ex}\n",
       "</style>\n",
       "<ol class=list-inline><li>71</li><li>202</li></ol>\n",
       "</dd>\n",
       "\t<dt>$opeak</dt>\n",
       "\t\t<dd><style>\n",
       ".list-inline {list-style: none; margin:0; padding: 0}\n",
       ".list-inline>li {display: inline-block}\n",
       ".list-inline>li:not(:last-child)::after {content: \"\\00b7\"; padding: 0 .5ex}\n",
       "</style>\n",
       "<ol class=list-inline><li>0</li><li>6.2</li></ol>\n",
       "</dd>\n",
       "</dl>\n"
      ],
      "text/latex": [
       "\\begin{description}\n",
       "\\item[\\$age] \\begin{enumerate*}\n",
       "\\item 29\n",
       "\\item 77\n",
       "\\end{enumerate*}\n",
       "\n",
       "\\item[\\$tbp] \\begin{enumerate*}\n",
       "\\item 94\n",
       "\\item 200\n",
       "\\end{enumerate*}\n",
       "\n",
       "\\item[\\$chol] \\begin{enumerate*}\n",
       "\\item 126\n",
       "\\item 564\n",
       "\\end{enumerate*}\n",
       "\n",
       "\\item[\\$thlch] \\begin{enumerate*}\n",
       "\\item 71\n",
       "\\item 202\n",
       "\\end{enumerate*}\n",
       "\n",
       "\\item[\\$opeak] \\begin{enumerate*}\n",
       "\\item 0\n",
       "\\item 6.2\n",
       "\\end{enumerate*}\n",
       "\n",
       "\\end{description}\n"
      ],
      "text/markdown": [
       "$age\n",
       ":   1. 29\n",
       "2. 77\n",
       "\n",
       "\n",
       "\n",
       "$tbp\n",
       ":   1. 94\n",
       "2. 200\n",
       "\n",
       "\n",
       "\n",
       "$chol\n",
       ":   1. 126\n",
       "2. 564\n",
       "\n",
       "\n",
       "\n",
       "$thlch\n",
       ":   1. 71\n",
       "2. 202\n",
       "\n",
       "\n",
       "\n",
       "$opeak\n",
       ":   1. 0\n",
       "2. 6.2\n",
       "\n",
       "\n",
       "\n",
       "\n",
       "\n"
      ],
      "text/plain": [
       "$age\n",
       "[1] 29 77\n",
       "\n",
       "$tbp\n",
       "[1]  94 200\n",
       "\n",
       "$chol\n",
       "[1] 126 564\n",
       "\n",
       "$thlch\n",
       "[1]  71 202\n",
       "\n",
       "$opeak\n",
       "[1] 0.0 6.2\n"
      ]
     },
     "metadata": {},
     "output_type": "display_data"
    }
   ],
   "source": [
    "# Range\n",
    "numeric_col%>%\n",
    "    lapply(range)"
   ]
  },
  {
   "cell_type": "markdown",
   "id": "e19d882c-dc15-4aa8-840a-868aed49e981",
   "metadata": {},
   "source": [
    "# Inter Quantile Range(IQR)\n",
    "numeric_col%>%\n",
    "    lapply(IQR)"
   ]
  },
  {
   "cell_type": "code",
   "execution_count": 40,
   "id": "25b73f9a-3a67-4624-b0ad-838a91ad9021",
   "metadata": {},
   "outputs": [
    {
     "data": {
      "text/html": [
       "<dl>\n",
       "\t<dt>$age</dt>\n",
       "\t\t<dd>81.6974187484974</dd>\n",
       "\t<dt>$tbp</dt>\n",
       "\t\t<dd>309.751120145127</dd>\n",
       "\t<dt>$chol</dt>\n",
       "\t\t<dd>2680.84919021703</dd>\n",
       "\t<dt>$thlch</dt>\n",
       "\t\t<dd>523.265774921863</dd>\n",
       "\t<dt>$opeak</dt>\n",
       "\t\t<dd>1.34809520687168</dd>\n",
       "</dl>\n"
      ],
      "text/latex": [
       "\\begin{description}\n",
       "\\item[\\$age] 81.6974187484974\n",
       "\\item[\\$tbp] 309.751120145127\n",
       "\\item[\\$chol] 2680.84919021703\n",
       "\\item[\\$thlch] 523.265774921863\n",
       "\\item[\\$opeak] 1.34809520687168\n",
       "\\end{description}\n"
      ],
      "text/markdown": [
       "$age\n",
       ":   81.6974187484974\n",
       "$tbp\n",
       ":   309.751120145127\n",
       "$chol\n",
       ":   2680.84919021703\n",
       "$thlch\n",
       ":   523.265774921863\n",
       "$opeak\n",
       ":   1.34809520687168\n",
       "\n",
       "\n"
      ],
      "text/plain": [
       "$age\n",
       "[1] 81.69742\n",
       "\n",
       "$tbp\n",
       "[1] 309.7511\n",
       "\n",
       "$chol\n",
       "[1] 2680.849\n",
       "\n",
       "$thlch\n",
       "[1] 523.2658\n",
       "\n",
       "$opeak\n",
       "[1] 1.348095\n"
      ]
     },
     "metadata": {},
     "output_type": "display_data"
    }
   ],
   "source": [
    "# Variance\n",
    "numeric_col%>%\n",
    "    lapply(var)"
   ]
  },
  {
   "cell_type": "code",
   "execution_count": 41,
   "id": "c814acc3-653d-4953-9cbc-4e26993b724f",
   "metadata": {},
   "outputs": [
    {
     "data": {
      "text/html": [
       "<dl>\n",
       "\t<dt>$age</dt>\n",
       "\t\t<dd>9.03866244244675</dd>\n",
       "\t<dt>$tbp</dt>\n",
       "\t\t<dd>17.5997477295877</dd>\n",
       "\t<dt>$chol</dt>\n",
       "\t\t<dd>51.776917542637</dd>\n",
       "\t<dt>$thlch</dt>\n",
       "\t\t<dd>22.8750032769804</dd>\n",
       "\t<dt>$opeak</dt>\n",
       "\t\t<dd>1.16107502206863</dd>\n",
       "</dl>\n"
      ],
      "text/latex": [
       "\\begin{description}\n",
       "\\item[\\$age] 9.03866244244675\n",
       "\\item[\\$tbp] 17.5997477295877\n",
       "\\item[\\$chol] 51.776917542637\n",
       "\\item[\\$thlch] 22.8750032769804\n",
       "\\item[\\$opeak] 1.16107502206863\n",
       "\\end{description}\n"
      ],
      "text/markdown": [
       "$age\n",
       ":   9.03866244244675\n",
       "$tbp\n",
       ":   17.5997477295877\n",
       "$chol\n",
       ":   51.776917542637\n",
       "$thlch\n",
       ":   22.8750032769804\n",
       "$opeak\n",
       ":   1.16107502206863\n",
       "\n",
       "\n"
      ],
      "text/plain": [
       "$age\n",
       "[1] 9.038662\n",
       "\n",
       "$tbp\n",
       "[1] 17.59975\n",
       "\n",
       "$chol\n",
       "[1] 51.77692\n",
       "\n",
       "$thlch\n",
       "[1] 22.875\n",
       "\n",
       "$opeak\n",
       "[1] 1.161075\n"
      ]
     },
     "metadata": {},
     "output_type": "display_data"
    }
   ],
   "source": [
    "# Standerd Divation \n",
    "numeric_col%>%\n",
    "    lapply(sd)"
   ]
  },
  {
   "cell_type": "code",
   "execution_count": null,
   "id": "c5d9b4b0-01ec-466b-8de5-f2521150638d",
   "metadata": {},
   "outputs": [],
   "source": []
  },
  {
   "cell_type": "markdown",
   "id": "80be54c2-93b8-4e81-9f1e-6635826eb5c9",
   "metadata": {},
   "source": [
    "### PART TWO: Applying Supervised ML Algorithms: Naive Bayes, Decision Trees, KNN and SVM"
   ]
  },
  {
   "cell_type": "code",
   "execution_count": 42,
   "id": "53e6b294-2a18-4464-8834-9d0c523a879b",
   "metadata": {},
   "outputs": [],
   "source": [
    "## spliting data set into training and testing data sets\n",
    "# set.seed(1234)\n",
    "index<- createDataPartition(df$Target , p =0.7, list = FALSE)\n",
    "train_data<-df[index,]\n",
    "test_data<-df[-index,]\n",
    "train_data$Target<-as.factor(train_data$Target)\n",
    "test_data$Target<-as.factor(test_data$Target)\n"
   ]
  },
  {
   "cell_type": "markdown",
   "id": "2d3c58b2-cb88-4e6c-a4c2-d8af6ab336d9",
   "metadata": {},
   "source": [
    "#### Naive Bayes"
   ]
  },
  {
   "cell_type": "code",
   "execution_count": 92,
   "id": "69a9ff47-8ccc-44c9-8104-157fcf25b73f",
   "metadata": {},
   "outputs": [
    {
     "name": "stdout",
     "output_type": "stream",
     "text": [
      "Confusion Matrix and Statistics\n",
      "\n",
      "          Reference\n",
      "Prediction   0   1\n",
      "         0 143  34\n",
      "         1  21 105\n",
      "                                          \n",
      "               Accuracy : 0.8185          \n",
      "                 95% CI : (0.7704, 0.8602)\n",
      "    No Information Rate : 0.5413          \n",
      "    P-Value [Acc > NIR] : <2e-16          \n",
      "                                          \n",
      "                  Kappa : 0.6319          \n",
      "                                          \n",
      " Mcnemar's Test P-Value : 0.1056          \n",
      "                                          \n",
      "            Sensitivity : 0.8720          \n",
      "            Specificity : 0.7554          \n",
      "         Pos Pred Value : 0.8079          \n",
      "         Neg Pred Value : 0.8333          \n",
      "             Prevalence : 0.5413          \n",
      "         Detection Rate : 0.4719          \n",
      "   Detection Prevalence : 0.5842          \n",
      "      Balanced Accuracy : 0.8137          \n",
      "                                          \n",
      "       'Positive' Class : 0               \n",
      "                                          \n",
      "[1] \"Classification Error: \"\n",
      "[1] 0.1815182\n"
     ]
    }
   ],
   "source": [
    "## Build naive bayes Model\n",
    "naive_bayes_model<-train(Target~.,data=df,\n",
    "                        method=\"naive_bayes\",\n",
    "                        trControl=trainControl(method=\"cv\",number=10),\n",
    "                        preProcess=c(\"scale\",\"center\")\n",
    "                        )\n",
    "## Applying Naive Bayes for prediction\n",
    "pred_naive_bayes_model<-predict(naive_bayes_model,df)\n",
    "\n",
    "## Creating Confusion matrix for the Model\n",
    "nb_conf_mat<-confusionMatrix(pred_naive_bayes_model,df$Target)\n",
    "\n",
    "# ## Calculating Classification Error\n",
    "nb_class_error<- 1-as.numeric(nb_conf_mat$overall[\"Accuracy\"])\n",
    "print(nb_conf_mat)\n",
    "print(\"Classification Error: \")\n",
    "print(nb_class_error)\n",
    "nb_conf_mat$byClass\n",
    "\n",
    "\n",
    "# nb_conf_mat$positive\n",
    "# nb_conf_mat$table\n",
    "# nb_conf_mat$overall\n",
    "# nb_conf_mat$mode\n",
    "# nb_conf_mat$dots"
   ]
  },
  {
   "cell_type": "markdown",
   "id": "3ede9513-5f90-4bf2-913d-905e737b79db",
   "metadata": {},
   "source": [
    "#### Support Vector Machine(SVM)"
   ]
  },
  {
   "cell_type": "code",
   "execution_count": 94,
   "id": "1445b36a-dedb-4d32-804c-e4f7853a8fe8",
   "metadata": {},
   "outputs": [
    {
     "name": "stdout",
     "output_type": "stream",
     "text": [
      "Confusion Matrix and Statistics\n",
      "\n",
      "          Reference\n",
      "Prediction   0   1\n",
      "         0 154  26\n",
      "         1  10 113\n",
      "                                          \n",
      "               Accuracy : 0.8812          \n",
      "                 95% CI : (0.8393, 0.9154)\n",
      "    No Information Rate : 0.5413          \n",
      "    P-Value [Acc > NIR] : < 2e-16         \n",
      "                                          \n",
      "                  Kappa : 0.7586          \n",
      "                                          \n",
      " Mcnemar's Test P-Value : 0.01242         \n",
      "                                          \n",
      "            Sensitivity : 0.9390          \n",
      "            Specificity : 0.8129          \n",
      "         Pos Pred Value : 0.8556          \n",
      "         Neg Pred Value : 0.9187          \n",
      "             Prevalence : 0.5413          \n",
      "         Detection Rate : 0.5083          \n",
      "   Detection Prevalence : 0.5941          \n",
      "      Balanced Accuracy : 0.8760          \n",
      "                                          \n",
      "       'Positive' Class : 0               \n",
      "                                          \n",
      "[1] \"Classification Error: \"\n",
      "[1] 0.1188119\n"
     ]
    },
    {
     "data": {
      "text/html": [
       "<style>\n",
       ".dl-inline {width: auto; margin:0; padding: 0}\n",
       ".dl-inline>dt, .dl-inline>dd {float: none; width: auto; display: inline-block}\n",
       ".dl-inline>dt::after {content: \":\\0020\"; padding-right: .5ex}\n",
       ".dl-inline>dt:not(:first-of-type) {padding-left: .5ex}\n",
       "</style><dl class=dl-inline><dt>Sensitivity</dt><dd>0.939024390243902</dd><dt>Specificity</dt><dd>0.81294964028777</dd><dt>Pos Pred Value</dt><dd>0.855555555555556</dd><dt>Neg Pred Value</dt><dd>0.91869918699187</dd><dt>Precision</dt><dd>0.855555555555556</dd><dt>Recall</dt><dd>0.939024390243902</dd><dt>F1</dt><dd>0.895348837209302</dd><dt>Prevalence</dt><dd>0.541254125412541</dd><dt>Detection Rate</dt><dd>0.508250825082508</dd><dt>Detection Prevalence</dt><dd>0.594059405940594</dd><dt>Balanced Accuracy</dt><dd>0.875987015265836</dd></dl>\n"
      ],
      "text/latex": [
       "\\begin{description*}\n",
       "\\item[Sensitivity] 0.939024390243902\n",
       "\\item[Specificity] 0.81294964028777\n",
       "\\item[Pos Pred Value] 0.855555555555556\n",
       "\\item[Neg Pred Value] 0.91869918699187\n",
       "\\item[Precision] 0.855555555555556\n",
       "\\item[Recall] 0.939024390243902\n",
       "\\item[F1] 0.895348837209302\n",
       "\\item[Prevalence] 0.541254125412541\n",
       "\\item[Detection Rate] 0.508250825082508\n",
       "\\item[Detection Prevalence] 0.594059405940594\n",
       "\\item[Balanced Accuracy] 0.875987015265836\n",
       "\\end{description*}\n"
      ],
      "text/markdown": [
       "Sensitivity\n",
       ":   0.939024390243902Specificity\n",
       ":   0.81294964028777Pos Pred Value\n",
       ":   0.855555555555556Neg Pred Value\n",
       ":   0.91869918699187Precision\n",
       ":   0.855555555555556Recall\n",
       ":   0.939024390243902F1\n",
       ":   0.895348837209302Prevalence\n",
       ":   0.541254125412541Detection Rate\n",
       ":   0.508250825082508Detection Prevalence\n",
       ":   0.594059405940594Balanced Accuracy\n",
       ":   0.875987015265836\n",
       "\n"
      ],
      "text/plain": [
       "         Sensitivity          Specificity       Pos Pred Value \n",
       "           0.9390244            0.8129496            0.8555556 \n",
       "      Neg Pred Value            Precision               Recall \n",
       "           0.9186992            0.8555556            0.9390244 \n",
       "                  F1           Prevalence       Detection Rate \n",
       "           0.8953488            0.5412541            0.5082508 \n",
       "Detection Prevalence    Balanced Accuracy \n",
       "           0.5940594            0.8759870 "
      ]
     },
     "metadata": {},
     "output_type": "display_data"
    }
   ],
   "source": [
    "## Build SVM Model\n",
    "\n",
    "svm_model<-train(Target~.,data=df,\n",
    "                        method=\"svmLinear2\",\n",
    "                        trControl=trainControl(method=\"cv\",number=10),\n",
    "                        preProcess=c(\"scale\",\"center\")\n",
    "                        )\n",
    "## Applying SVM for prediction\n",
    "pred_svm_model<-predict(svm_model,df)\n",
    "\n",
    "## Creating Confusion matrix for the Model\n",
    "svm_conf_mat<-confusionMatrix(pred_svm_model,df$Target)\n",
    "\n",
    "print(svm_conf_mat)\n",
    "\n",
    "## Calculating Classification Error\n",
    "svm_class_error<- 1-as.numeric(svm_conf_mat$overall[\"Accuracy\"])\n",
    "print(\"Classification Error: \")\n",
    "print(svm_class_error)\n",
    "svm_conf_mat$byClass\n"
   ]
  },
  {
   "cell_type": "markdown",
   "id": "286c2f12-6f91-45d2-ba3e-5c05e829f952",
   "metadata": {},
   "source": [
    "####  K-Nearest Neighbors(KNN)"
   ]
  },
  {
   "cell_type": "code",
   "execution_count": 95,
   "id": "1d5e1de6-01a0-40dc-9eda-8d877de83519",
   "metadata": {},
   "outputs": [
    {
     "name": "stdout",
     "output_type": "stream",
     "text": [
      "Confusion Matrix and Statistics\n",
      "\n",
      "          Reference\n",
      "Prediction   0   1\n",
      "         0 153  28\n",
      "         1  11 111\n",
      "                                          \n",
      "               Accuracy : 0.8713          \n",
      "                 95% CI : (0.8283, 0.9068)\n",
      "    No Information Rate : 0.5413          \n",
      "    P-Value [Acc > NIR] : < 2e-16         \n",
      "                                          \n",
      "                  Kappa : 0.7384          \n",
      "                                          \n",
      " Mcnemar's Test P-Value : 0.01041         \n",
      "                                          \n",
      "            Sensitivity : 0.9329          \n",
      "            Specificity : 0.7986          \n",
      "         Pos Pred Value : 0.8453          \n",
      "         Neg Pred Value : 0.9098          \n",
      "             Prevalence : 0.5413          \n",
      "         Detection Rate : 0.5050          \n",
      "   Detection Prevalence : 0.5974          \n",
      "      Balanced Accuracy : 0.8657          \n",
      "                                          \n",
      "       'Positive' Class : 0               \n",
      "                                          \n",
      "[1] \"Classification Error: \"\n",
      "[1] 0.1287129\n"
     ]
    },
    {
     "data": {
      "text/html": [
       "<style>\n",
       ".dl-inline {width: auto; margin:0; padding: 0}\n",
       ".dl-inline>dt, .dl-inline>dd {float: none; width: auto; display: inline-block}\n",
       ".dl-inline>dt::after {content: \":\\0020\"; padding-right: .5ex}\n",
       ".dl-inline>dt:not(:first-of-type) {padding-left: .5ex}\n",
       "</style><dl class=dl-inline><dt>Sensitivity</dt><dd>0.932926829268293</dd><dt>Specificity</dt><dd>0.798561151079137</dd><dt>Pos Pred Value</dt><dd>0.845303867403315</dd><dt>Neg Pred Value</dt><dd>0.909836065573771</dd><dt>Precision</dt><dd>0.845303867403315</dd><dt>Recall</dt><dd>0.932926829268293</dd><dt>F1</dt><dd>0.88695652173913</dd><dt>Prevalence</dt><dd>0.541254125412541</dd><dt>Detection Rate</dt><dd>0.504950495049505</dd><dt>Detection Prevalence</dt><dd>0.597359735973597</dd><dt>Balanced Accuracy</dt><dd>0.865743990173715</dd></dl>\n"
      ],
      "text/latex": [
       "\\begin{description*}\n",
       "\\item[Sensitivity] 0.932926829268293\n",
       "\\item[Specificity] 0.798561151079137\n",
       "\\item[Pos Pred Value] 0.845303867403315\n",
       "\\item[Neg Pred Value] 0.909836065573771\n",
       "\\item[Precision] 0.845303867403315\n",
       "\\item[Recall] 0.932926829268293\n",
       "\\item[F1] 0.88695652173913\n",
       "\\item[Prevalence] 0.541254125412541\n",
       "\\item[Detection Rate] 0.504950495049505\n",
       "\\item[Detection Prevalence] 0.597359735973597\n",
       "\\item[Balanced Accuracy] 0.865743990173715\n",
       "\\end{description*}\n"
      ],
      "text/markdown": [
       "Sensitivity\n",
       ":   0.932926829268293Specificity\n",
       ":   0.798561151079137Pos Pred Value\n",
       ":   0.845303867403315Neg Pred Value\n",
       ":   0.909836065573771Precision\n",
       ":   0.845303867403315Recall\n",
       ":   0.932926829268293F1\n",
       ":   0.88695652173913Prevalence\n",
       ":   0.541254125412541Detection Rate\n",
       ":   0.504950495049505Detection Prevalence\n",
       ":   0.597359735973597Balanced Accuracy\n",
       ":   0.865743990173715\n",
       "\n"
      ],
      "text/plain": [
       "         Sensitivity          Specificity       Pos Pred Value \n",
       "           0.9329268            0.7985612            0.8453039 \n",
       "      Neg Pred Value            Precision               Recall \n",
       "           0.9098361            0.8453039            0.9329268 \n",
       "                  F1           Prevalence       Detection Rate \n",
       "           0.8869565            0.5412541            0.5049505 \n",
       "Detection Prevalence    Balanced Accuracy \n",
       "           0.5973597            0.8657440 "
      ]
     },
     "metadata": {},
     "output_type": "display_data"
    }
   ],
   "source": [
    "## Build KNN Model\n",
    "knn_model<-train(Target~.,data=df,\n",
    "                        method=\"knn\",\n",
    "                        trControl=trainControl(method=\"cv\",number=10),\n",
    "                        preProcess=c(\"scale\",\"center\") \n",
    "                        )\n",
    "## Applying KNN for prediction\n",
    "pred_knn_model<-predict(knn_model,df)\n",
    "\n",
    "## Creating Confusion matrix for the Model\n",
    "knn_conf_mat<-confusionMatrix(pred_knn_model,df$Target)\n",
    "\n",
    "print(knn_conf_mat)\n",
    "\n",
    "## Calculating Classification Error\n",
    "knn_class_error<- 1-as.numeric(knn_conf_mat$overall[\"Accuracy\"])\n",
    "print(\"Classification Error: \")\n",
    "print(knn_class_error)\n",
    "knn_conf_mat$byClass\n"
   ]
  },
  {
   "cell_type": "markdown",
   "id": "7af2af35-668a-4bb9-b86e-42600e0e89fa",
   "metadata": {},
   "source": [
    "#### Decision Tree"
   ]
  },
  {
   "cell_type": "code",
   "execution_count": 96,
   "id": "bbdbc0e8-94a5-455f-94c1-eb94115a8103",
   "metadata": {},
   "outputs": [
    {
     "name": "stdout",
     "output_type": "stream",
     "text": [
      "Confusion Matrix and Statistics\n",
      "\n",
      "          Reference\n",
      "Prediction   0   1\n",
      "         0 150  43\n",
      "         1  14  96\n",
      "                                          \n",
      "               Accuracy : 0.8119          \n",
      "                 95% CI : (0.7632, 0.8543)\n",
      "    No Information Rate : 0.5413          \n",
      "    P-Value [Acc > NIR] : < 2.2e-16       \n",
      "                                          \n",
      "                  Kappa : 0.6151          \n",
      "                                          \n",
      " Mcnemar's Test P-Value : 0.0002083       \n",
      "                                          \n",
      "            Sensitivity : 0.9146          \n",
      "            Specificity : 0.6906          \n",
      "         Pos Pred Value : 0.7772          \n",
      "         Neg Pred Value : 0.8727          \n",
      "             Prevalence : 0.5413          \n",
      "         Detection Rate : 0.4950          \n",
      "   Detection Prevalence : 0.6370          \n",
      "      Balanced Accuracy : 0.8026          \n",
      "                                          \n",
      "       'Positive' Class : 0               \n",
      "                                          \n",
      "[1] \"Classification Error: \"\n",
      "[1] 0.1881188\n"
     ]
    },
    {
     "data": {
      "text/html": [
       "<style>\n",
       ".dl-inline {width: auto; margin:0; padding: 0}\n",
       ".dl-inline>dt, .dl-inline>dd {float: none; width: auto; display: inline-block}\n",
       ".dl-inline>dt::after {content: \":\\0020\"; padding-right: .5ex}\n",
       ".dl-inline>dt:not(:first-of-type) {padding-left: .5ex}\n",
       "</style><dl class=dl-inline><dt>Sensitivity</dt><dd>0.914634146341463</dd><dt>Specificity</dt><dd>0.690647482014389</dd><dt>Pos Pred Value</dt><dd>0.77720207253886</dd><dt>Neg Pred Value</dt><dd>0.872727272727273</dd><dt>Precision</dt><dd>0.77720207253886</dd><dt>Recall</dt><dd>0.914634146341463</dd><dt>F1</dt><dd>0.840336134453782</dd><dt>Prevalence</dt><dd>0.541254125412541</dd><dt>Detection Rate</dt><dd>0.495049504950495</dd><dt>Detection Prevalence</dt><dd>0.636963696369637</dd><dt>Balanced Accuracy</dt><dd>0.802640814177926</dd></dl>\n"
      ],
      "text/latex": [
       "\\begin{description*}\n",
       "\\item[Sensitivity] 0.914634146341463\n",
       "\\item[Specificity] 0.690647482014389\n",
       "\\item[Pos Pred Value] 0.77720207253886\n",
       "\\item[Neg Pred Value] 0.872727272727273\n",
       "\\item[Precision] 0.77720207253886\n",
       "\\item[Recall] 0.914634146341463\n",
       "\\item[F1] 0.840336134453782\n",
       "\\item[Prevalence] 0.541254125412541\n",
       "\\item[Detection Rate] 0.495049504950495\n",
       "\\item[Detection Prevalence] 0.636963696369637\n",
       "\\item[Balanced Accuracy] 0.802640814177926\n",
       "\\end{description*}\n"
      ],
      "text/markdown": [
       "Sensitivity\n",
       ":   0.914634146341463Specificity\n",
       ":   0.690647482014389Pos Pred Value\n",
       ":   0.77720207253886Neg Pred Value\n",
       ":   0.872727272727273Precision\n",
       ":   0.77720207253886Recall\n",
       ":   0.914634146341463F1\n",
       ":   0.840336134453782Prevalence\n",
       ":   0.541254125412541Detection Rate\n",
       ":   0.495049504950495Detection Prevalence\n",
       ":   0.636963696369637Balanced Accuracy\n",
       ":   0.802640814177926\n",
       "\n"
      ],
      "text/plain": [
       "         Sensitivity          Specificity       Pos Pred Value \n",
       "           0.9146341            0.6906475            0.7772021 \n",
       "      Neg Pred Value            Precision               Recall \n",
       "           0.8727273            0.7772021            0.9146341 \n",
       "                  F1           Prevalence       Detection Rate \n",
       "           0.8403361            0.5412541            0.4950495 \n",
       "Detection Prevalence    Balanced Accuracy \n",
       "           0.6369637            0.8026408 "
      ]
     },
     "metadata": {},
     "output_type": "display_data"
    }
   ],
   "source": [
    "## Build Decision Tree Model\n",
    "decision_tree_model<-train(Target~.,data=df,\n",
    "                        method=\"rpart\",\n",
    "                        trControl=trainControl(method=\"cv\",number=10),\n",
    "                        preProcess=c(\"scale\",\"center\")\n",
    "                          )\n",
    "## Applying Decision Tree for prediction\n",
    "pred_dt_model<-predict(decision_tree_model,df)\n",
    "\n",
    "## Creating Confusion matrix for the Model\n",
    "decision_tree_conf_mat<-confusionMatrix(pred_dt_model,df$Target)\n",
    "\n",
    "print(decision_tree_conf_mat)\n",
    "\n",
    "## Calculating Classification Error\n",
    "decision_tree_class_error<- 1-as.numeric(decision_tree_conf_mat$overall[\"Accuracy\"])\n",
    "print(\"Classification Error: \")\n",
    "print(decision_tree_class_error)\n",
    "decision_tree_conf_mat$byClass\n"
   ]
  },
  {
   "cell_type": "code",
   "execution_count": 99,
   "id": "105760f7-7621-4247-b06d-b21f33abf2b2",
   "metadata": {},
   "outputs": [
    {
     "ename": "ERROR",
     "evalue": "Error in rpart.plot(final_tree_model, extra = 106): could not find function \"rpart.plot\"\n",
     "output_type": "error",
     "traceback": [
      "Error in rpart.plot(final_tree_model, extra = 106): could not find function \"rpart.plot\"\nTraceback:\n"
     ]
    }
   ],
   "source": [
    "## Plotting Decision Tree\n",
    "final_tree_model <- decision_tree_model$finalModel\n",
    "rpart.plot(final_tree_model, extra = 106)\n",
    "options(repr.plot.res=1000)"
   ]
  },
  {
   "cell_type": "markdown",
   "id": "565e6e58-8c24-4acf-8a27-f5a7d8b26077",
   "metadata": {},
   "source": [
    "### PART THREE: A brief discussion from PART TWO\n"
   ]
  },
  {
   "cell_type": "markdown",
   "id": "aac0f6e9-3441-4d16-a009-eea07b8816ad",
   "metadata": {},
   "source": [
    "### PART FOUR: Ensemble Modeling\n"
   ]
  },
  {
   "cell_type": "markdown",
   "id": "a7937a85-f7e1-46ea-b46a-87a03bc19f7d",
   "metadata": {},
   "source": [
    "There will be two Ensemble Models are built: \n",
    "\n",
    "-One from the best two algorithms which are *KNN* and *SVM*\n",
    "\n",
    "-Another from weakest two algorithms which are *Naive Bayes* and *Decision Tree*"
   ]
  },
  {
   "cell_type": "markdown",
   "id": "3b19eeef-2268-46e8-ac3b-9fc94f49b526",
   "metadata": {},
   "source": [
    "#### KNN,SVM Ensemble Model"
   ]
  },
  {
   "cell_type": "code",
   "execution_count": 102,
   "id": "f2c4608e-343c-446d-b81b-081187751f79",
   "metadata": {},
   "outputs": [
    {
     "name": "stdout",
     "output_type": "stream",
     "text": [
      "Confusion Matrix and Statistics\n",
      "\n",
      "          Reference\n",
      "Prediction   0   1\n",
      "         0 164   0\n",
      "         1   0 139\n",
      "                                     \n",
      "               Accuracy : 1          \n",
      "                 95% CI : (0.9879, 1)\n",
      "    No Information Rate : 0.5413     \n",
      "    P-Value [Acc > NIR] : < 2.2e-16  \n",
      "                                     \n",
      "                  Kappa : 1          \n",
      "                                     \n",
      " Mcnemar's Test P-Value : NA         \n",
      "                                     \n",
      "            Sensitivity : 1.0000     \n",
      "            Specificity : 1.0000     \n",
      "         Pos Pred Value : 1.0000     \n",
      "         Neg Pred Value : 1.0000     \n",
      "             Prevalence : 0.5413     \n",
      "         Detection Rate : 0.5413     \n",
      "   Detection Prevalence : 0.5413     \n",
      "      Balanced Accuracy : 1.0000     \n",
      "                                     \n",
      "       'Positive' Class : 0          \n",
      "                                     \n"
     ]
    },
    {
     "data": {
      "text/html": [
       "<style>\n",
       ".dl-inline {width: auto; margin:0; padding: 0}\n",
       ".dl-inline>dt, .dl-inline>dd {float: none; width: auto; display: inline-block}\n",
       ".dl-inline>dt::after {content: \":\\0020\"; padding-right: .5ex}\n",
       ".dl-inline>dt:not(:first-of-type) {padding-left: .5ex}\n",
       "</style><dl class=dl-inline><dt>Sensitivity</dt><dd>1</dd><dt>Specificity</dt><dd>1</dd><dt>Pos Pred Value</dt><dd>1</dd><dt>Neg Pred Value</dt><dd>1</dd><dt>Precision</dt><dd>1</dd><dt>Recall</dt><dd>1</dd><dt>F1</dt><dd>1</dd><dt>Prevalence</dt><dd>0.541254125412541</dd><dt>Detection Rate</dt><dd>0.541254125412541</dd><dt>Detection Prevalence</dt><dd>0.541254125412541</dd><dt>Balanced Accuracy</dt><dd>1</dd></dl>\n"
      ],
      "text/latex": [
       "\\begin{description*}\n",
       "\\item[Sensitivity] 1\n",
       "\\item[Specificity] 1\n",
       "\\item[Pos Pred Value] 1\n",
       "\\item[Neg Pred Value] 1\n",
       "\\item[Precision] 1\n",
       "\\item[Recall] 1\n",
       "\\item[F1] 1\n",
       "\\item[Prevalence] 0.541254125412541\n",
       "\\item[Detection Rate] 0.541254125412541\n",
       "\\item[Detection Prevalence] 0.541254125412541\n",
       "\\item[Balanced Accuracy] 1\n",
       "\\end{description*}\n"
      ],
      "text/markdown": [
       "Sensitivity\n",
       ":   1Specificity\n",
       ":   1Pos Pred Value\n",
       ":   1Neg Pred Value\n",
       ":   1Precision\n",
       ":   1Recall\n",
       ":   1F1\n",
       ":   1Prevalence\n",
       ":   0.541254125412541Detection Rate\n",
       ":   0.541254125412541Detection Prevalence\n",
       ":   0.541254125412541Balanced Accuracy\n",
       ":   1\n",
       "\n"
      ],
      "text/plain": [
       "         Sensitivity          Specificity       Pos Pred Value \n",
       "           1.0000000            1.0000000            1.0000000 \n",
       "      Neg Pred Value            Precision               Recall \n",
       "           1.0000000            1.0000000            1.0000000 \n",
       "                  F1           Prevalence       Detection Rate \n",
       "           1.0000000            0.5412541            0.5412541 \n",
       "Detection Prevalence    Balanced Accuracy \n",
       "           0.5412541            1.0000000 "
      ]
     },
     "metadata": {},
     "output_type": "display_data"
    }
   ],
   "source": [
    "#Bulding First Ensemble Model \n",
    "#First ensembel model consists of the best two algorithms --> which are KNN and SVM \n",
    "\n",
    "#create model list\n",
    "model_list_1<-list(knn_model,svm_model)\n",
    "\n",
    "# building an Ensemble model by using adaboost method\n",
    "knn_svm_model<- boosting(Target~.,\n",
    "                    data = df,\n",
    "                    mfinal = 100,\n",
    "                    models = model_list,\n",
    "                    boos = TRUE,\n",
    "                    control = rpart.control(xval=10)\n",
    "                    )\n",
    "\n",
    "#predict test dataset\n",
    "pred_knn_svm<-predict(knn_svm_model,df)\n",
    "\n",
    "# Build confusion matrix\n",
    "pred <- as.factor(pred_knn_svm$class)\n",
    "actual <- as.factor(df$Target)\n",
    "\n",
    "knn_svm_confusion_matrix <- confusionMatrix(pred, actual)\n",
    "\n",
    "# View the confusion matrix\n",
    "print(knn_svm_confusion_matrix)\n",
    "knn_svm_confusion_matrix$byClass"
   ]
  },
  {
   "cell_type": "markdown",
   "id": "55b9c161-677d-45fd-9580-04d50b901a1e",
   "metadata": {},
   "source": [
    "#### Naive Bayes, Decision Tree Ensemble Model"
   ]
  },
  {
   "cell_type": "code",
   "execution_count": 100,
   "id": "b54edd78-e4c2-4bdd-82ea-4af9781640a9",
   "metadata": {},
   "outputs": [
    {
     "name": "stdout",
     "output_type": "stream",
     "text": [
      "Confusion Matrix and Statistics\n",
      "\n",
      "          Reference\n",
      "Prediction   0   1\n",
      "         0 164   0\n",
      "         1   0 139\n",
      "                                     \n",
      "               Accuracy : 1          \n",
      "                 95% CI : (0.9879, 1)\n",
      "    No Information Rate : 0.5413     \n",
      "    P-Value [Acc > NIR] : < 2.2e-16  \n",
      "                                     \n",
      "                  Kappa : 1          \n",
      "                                     \n",
      " Mcnemar's Test P-Value : NA         \n",
      "                                     \n",
      "            Sensitivity : 1.0000     \n",
      "            Specificity : 1.0000     \n",
      "         Pos Pred Value : 1.0000     \n",
      "         Neg Pred Value : 1.0000     \n",
      "             Prevalence : 0.5413     \n",
      "         Detection Rate : 0.5413     \n",
      "   Detection Prevalence : 0.5413     \n",
      "      Balanced Accuracy : 1.0000     \n",
      "                                     \n",
      "       'Positive' Class : 0          \n",
      "                                     \n"
     ]
    },
    {
     "data": {
      "text/html": [
       "<style>\n",
       ".dl-inline {width: auto; margin:0; padding: 0}\n",
       ".dl-inline>dt, .dl-inline>dd {float: none; width: auto; display: inline-block}\n",
       ".dl-inline>dt::after {content: \":\\0020\"; padding-right: .5ex}\n",
       ".dl-inline>dt:not(:first-of-type) {padding-left: .5ex}\n",
       "</style><dl class=dl-inline><dt>Sensitivity</dt><dd>1</dd><dt>Specificity</dt><dd>1</dd><dt>Pos Pred Value</dt><dd>1</dd><dt>Neg Pred Value</dt><dd>1</dd><dt>Precision</dt><dd>1</dd><dt>Recall</dt><dd>1</dd><dt>F1</dt><dd>1</dd><dt>Prevalence</dt><dd>0.541254125412541</dd><dt>Detection Rate</dt><dd>0.541254125412541</dd><dt>Detection Prevalence</dt><dd>0.541254125412541</dd><dt>Balanced Accuracy</dt><dd>1</dd></dl>\n"
      ],
      "text/latex": [
       "\\begin{description*}\n",
       "\\item[Sensitivity] 1\n",
       "\\item[Specificity] 1\n",
       "\\item[Pos Pred Value] 1\n",
       "\\item[Neg Pred Value] 1\n",
       "\\item[Precision] 1\n",
       "\\item[Recall] 1\n",
       "\\item[F1] 1\n",
       "\\item[Prevalence] 0.541254125412541\n",
       "\\item[Detection Rate] 0.541254125412541\n",
       "\\item[Detection Prevalence] 0.541254125412541\n",
       "\\item[Balanced Accuracy] 1\n",
       "\\end{description*}\n"
      ],
      "text/markdown": [
       "Sensitivity\n",
       ":   1Specificity\n",
       ":   1Pos Pred Value\n",
       ":   1Neg Pred Value\n",
       ":   1Precision\n",
       ":   1Recall\n",
       ":   1F1\n",
       ":   1Prevalence\n",
       ":   0.541254125412541Detection Rate\n",
       ":   0.541254125412541Detection Prevalence\n",
       ":   0.541254125412541Balanced Accuracy\n",
       ":   1\n",
       "\n"
      ],
      "text/plain": [
       "         Sensitivity          Specificity       Pos Pred Value \n",
       "           1.0000000            1.0000000            1.0000000 \n",
       "      Neg Pred Value            Precision               Recall \n",
       "           1.0000000            1.0000000            1.0000000 \n",
       "                  F1           Prevalence       Detection Rate \n",
       "           1.0000000            0.5412541            0.5412541 \n",
       "Detection Prevalence    Balanced Accuracy \n",
       "           0.5412541            1.0000000 "
      ]
     },
     "metadata": {},
     "output_type": "display_data"
    }
   ],
   "source": [
    "#Bulding First Ensemble Model \n",
    "#First ensembel model consists of the best two algorithms --> which are KNN and SVM \n",
    "\n",
    "#create model list\n",
    "model_list_1<-list(naive_bayes_model,decision_tree_model)\n",
    "\n",
    "# building an Ensemble model by using adaboost method\n",
    "nb_dt_model<- boosting(Target~.,\n",
    "                    data = df,\n",
    "                    mfinal = 100,\n",
    "                    models = model_list,\n",
    "                    boos = TRUE,\n",
    "                    control = rpart.control(xval=10)\n",
    "                    )\n",
    "\n",
    "#predict test dataset\n",
    "pred_nb_dt<-predict(nb_dt_model,df)\n",
    "\n",
    "# Build confusion matrix\n",
    "pred <- as.factor(pred_nb_dt$class)\n",
    "actual <- as.factor(df$Target)\n",
    "\n",
    "nb_dt_confusion_matrix <- confusionMatrix(pred, actual)\n",
    "\n",
    "# View the confusion matrix\n",
    "print(nb_dt_confusion_matrix)\n",
    "\n",
    "nb_dt_confusion_matrix$byClass"
   ]
  },
  {
   "cell_type": "markdown",
   "id": "022c8093-0022-4ba5-81f8-ec2c65c1a3a3",
   "metadata": {},
   "source": [
    "### PART FIVE: Applying one of clustering algorithms to identify the subgroups among heart disease patients"
   ]
  },
  {
   "cell_type": "code",
   "execution_count": 106,
   "id": "e62d0d18-9c3f-4a5c-8667-123313e5c7e6",
   "metadata": {},
   "outputs": [
    {
     "data": {
      "text/html": [
       "<style>\n",
       ".list-inline {list-style: none; margin:0; padding: 0}\n",
       ".list-inline>li {display: inline-block}\n",
       ".list-inline>li:not(:last-child)::after {content: \"\\00b7\"; padding: 0 .5ex}\n",
       "</style>\n",
       "<ol class=list-inline><li>3</li><li>3</li><li>3</li><li>3</li><li>1</li><li>3</li><li>3</li><li>2</li><li>3</li><li>1</li><li>1</li><li>2</li><li>3</li><li>3</li></ol>\n"
      ],
      "text/latex": [
       "\\begin{enumerate*}\n",
       "\\item 3\n",
       "\\item 3\n",
       "\\item 3\n",
       "\\item 3\n",
       "\\item 1\n",
       "\\item 3\n",
       "\\item 3\n",
       "\\item 2\n",
       "\\item 3\n",
       "\\item 1\n",
       "\\item 1\n",
       "\\item 2\n",
       "\\item 3\n",
       "\\item 3\n",
       "\\end{enumerate*}\n"
      ],
      "text/markdown": [
       "1. 3\n",
       "2. 3\n",
       "3. 3\n",
       "4. 3\n",
       "5. 1\n",
       "6. 3\n",
       "7. 3\n",
       "8. 2\n",
       "9. 3\n",
       "10. 1\n",
       "11. 1\n",
       "12. 2\n",
       "13. 3\n",
       "14. 3\n",
       "\n",
       "\n"
      ],
      "text/plain": [
       " [1] 3 3 3 3 1 3 3 2 3 1 1 2 3 3"
      ]
     },
     "metadata": {},
     "output_type": "display_data"
    },
    {
     "data": {
      "text/html": [
       "<table class=\"dataframe\">\n",
       "<caption>A matrix: 3 × 13 of type dbl</caption>\n",
       "<thead>\n",
       "\t<tr><th></th><th scope=col>age</th><th scope=col>sex</th><th scope=col>cp</th><th scope=col>tbp</th><th scope=col>chol</th><th scope=col>fbs</th><th scope=col>rstcg</th><th scope=col>thlch</th><th scope=col>exng</th><th scope=col>opeak</th><th scope=col>slope</th><th scope=col>ca</th><th scope=col>thal</th></tr>\n",
       "</thead>\n",
       "<tbody>\n",
       "\t<tr><th scope=row>1</th><td>51.84404</td><td>0.7339450</td><td>3.128440</td><td>127.7615</td><td>197.6972</td><td>0.1284404</td><td>0.7522936</td><td>150.8257</td><td>0.2844037</td><td>0.9972477</td><td>1.541284</td><td>0.4678899</td><td>0.7614679</td></tr>\n",
       "\t<tr><th scope=row>2</th><td>56.29508</td><td>0.5081967</td><td>3.327869</td><td>137.1148</td><td>321.8525</td><td>0.1639344</td><td>1.1147541</td><td>151.0820</td><td>0.3606557</td><td>1.1311475</td><td>1.540984</td><td>0.9180328</td><td>0.8524590</td></tr>\n",
       "\t<tr><th scope=row>3</th><td>55.71429</td><td>0.7142857</td><td>3.105263</td><td>132.4211</td><td>252.3759</td><td>0.1578947</td><td>1.1278195</td><td>147.9323</td><td>0.3458647</td><td>1.0323308</td><td>1.676692</td><td>0.7067669</td><td>0.8796992</td></tr>\n",
       "</tbody>\n",
       "</table>\n"
      ],
      "text/latex": [
       "A matrix: 3 × 13 of type dbl\n",
       "\\begin{tabular}{r|lllllllllllll}\n",
       "  & age & sex & cp & tbp & chol & fbs & rstcg & thlch & exng & opeak & slope & ca & thal\\\\\n",
       "\\hline\n",
       "\t1 & 51.84404 & 0.7339450 & 3.128440 & 127.7615 & 197.6972 & 0.1284404 & 0.7522936 & 150.8257 & 0.2844037 & 0.9972477 & 1.541284 & 0.4678899 & 0.7614679\\\\\n",
       "\t2 & 56.29508 & 0.5081967 & 3.327869 & 137.1148 & 321.8525 & 0.1639344 & 1.1147541 & 151.0820 & 0.3606557 & 1.1311475 & 1.540984 & 0.9180328 & 0.8524590\\\\\n",
       "\t3 & 55.71429 & 0.7142857 & 3.105263 & 132.4211 & 252.3759 & 0.1578947 & 1.1278195 & 147.9323 & 0.3458647 & 1.0323308 & 1.676692 & 0.7067669 & 0.8796992\\\\\n",
       "\\end{tabular}\n"
      ],
      "text/markdown": [
       "\n",
       "A matrix: 3 × 13 of type dbl\n",
       "\n",
       "| <!--/--> | age | sex | cp | tbp | chol | fbs | rstcg | thlch | exng | opeak | slope | ca | thal |\n",
       "|---|---|---|---|---|---|---|---|---|---|---|---|---|---|\n",
       "| 1 | 51.84404 | 0.7339450 | 3.128440 | 127.7615 | 197.6972 | 0.1284404 | 0.7522936 | 150.8257 | 0.2844037 | 0.9972477 | 1.541284 | 0.4678899 | 0.7614679 |\n",
       "| 2 | 56.29508 | 0.5081967 | 3.327869 | 137.1148 | 321.8525 | 0.1639344 | 1.1147541 | 151.0820 | 0.3606557 | 1.1311475 | 1.540984 | 0.9180328 | 0.8524590 |\n",
       "| 3 | 55.71429 | 0.7142857 | 3.105263 | 132.4211 | 252.3759 | 0.1578947 | 1.1278195 | 147.9323 | 0.3458647 | 1.0323308 | 1.676692 | 0.7067669 | 0.8796992 |\n",
       "\n"
      ],
      "text/plain": [
       "  age      sex       cp       tbp      chol     fbs       rstcg     thlch   \n",
       "1 51.84404 0.7339450 3.128440 127.7615 197.6972 0.1284404 0.7522936 150.8257\n",
       "2 56.29508 0.5081967 3.327869 137.1148 321.8525 0.1639344 1.1147541 151.0820\n",
       "3 55.71429 0.7142857 3.105263 132.4211 252.3759 0.1578947 1.1278195 147.9323\n",
       "  exng      opeak     slope    ca        thal     \n",
       "1 0.2844037 0.9972477 1.541284 0.4678899 0.7614679\n",
       "2 0.3606557 1.1311475 1.540984 0.9180328 0.8524590\n",
       "3 0.3458647 1.0323308 1.676692 0.7067669 0.8796992"
      ]
     },
     "metadata": {},
     "output_type": "display_data"
    },
    {
     "name": "stderr",
     "output_type": "stream",
     "text": [
      "\u001b[1m\u001b[22mSaving 6.67 x 6.67 in image\n"
     ]
    },
    {
     "data": {
      "image/png": "[encoded data removed]",
      "text/plain": [
       "plot without title"
      ]
     },
     "metadata": {
      "image/png": {
       "height": 612.5,
       "width": 612.5
      }
     },
     "output_type": "display_data"
    }
   ],
   "source": [
    "k=3\n",
    "k_mean=kmeans(df[,-14],k)\n",
    "k_mean$cluster[1:14]\n",
    "ggplot(df, aes(age, chol, color = factor(k_mean$cluster))) + \n",
    "  geom_point() + \n",
    "  labs(color = \"Cluster\") +\n",
    "  ggtitle(\"K-means Clustering of Heart disease Dataset\")\n",
    "k_mean$centers\n",
    "\n",
    "ggsave(\"clusters.png\")"
   ]
  }
 ],
 "metadata": {
  "kernelspec": {
   "display_name": "R",
   "language": "R",
   "name": "ir"
  },
  "language_info": {
   "codemirror_mode": "r",
   "file_extension": ".r",
   "mimetype": "text/x-r-source",
   "name": "R",
   "pygments_lexer": "r",
   "version": "4.3.2"
  }
 },
 "nbformat": 4,
 "nbformat_minor": 5
}
